{
 "cells": [
  {
   "cell_type": "markdown",
   "metadata": {
    "id": "quDlLWcAP31q"
   },
   "source": [
    "## MLP for Binary Classification\n",
    "\n",
    "In this lab, you will use the Ionosphere data binary (two-class) classification dataset to demonstrate an MLP for binary classification.\n",
    "\n",
    "This dataset involves predicting whether a structure is in the atmosphere or not given radar returns.\n",
    "\n",
    "The dataset will be downloaded automatically using Pandas, but you can learn more in the links below.\n",
    "\n",
    "[Ionosphere Dataset (csv)](https://raw.githubusercontent.com/jbrownlee/Datasets/master/ionosphere.csv)\n",
    "\n",
    "[Ionosphere Dataset Description (csv)](https://raw.githubusercontent.com/jbrownlee/Datasets/master/ionosphere.names)\n",
    "\n",
    "\n",
    "Your task for this is lab is to develop a Keras-based Multi-Layer Perceptron model for this data set. Remember the number of output layers is equal to the number of classes.\n",
    "\n",
    "Following we have provided some piece of code to you while you need to complete the rest of the code on your own.\n",
    "\n"
   ]
  },
  {
   "cell_type": "code",
   "execution_count": 1,
   "metadata": {
    "id": "6086ipzNP31q"
   },
   "outputs": [
    {
     "name": "stdout",
     "output_type": "stream",
     "text": [
      "WARNING:tensorflow:From C:\\Users\\vital\\anaconda3\\Lib\\site-packages\\keras\\src\\losses.py:2976: The name tf.losses.sparse_softmax_cross_entropy is deprecated. Please use tf.compat.v1.losses.sparse_softmax_cross_entropy instead.\n",
      "\n"
     ]
    }
   ],
   "source": [
    "# Importing Libraries\n",
    "\n",
    "# Your code to import read_csv class from pandas\n",
    "from pandas import read_csv\n",
    "\n",
    "# Your code to import train_test_split class from sklearn. \n",
    "#Follow link https://scikit-learn.org/stable/modules/generated/sklearn.model_selection.train_test_split.html\n",
    "from sklearn.model_selection import train_test_split\n",
    "\n",
    "\n",
    "from sklearn.preprocessing import LabelEncoder\n",
    "from tensorflow.keras import Sequential\n",
    "from tensorflow.keras.layers import Dense"
   ]
  },
  {
   "cell_type": "markdown",
   "metadata": {
    "id": "7755rFn_iDRj"
   },
   "source": [
    "# Read the dataset from the path below. Store the data in a pandas dataframe named 'df'\n",
    "\n",
    "Link to API - https://pandas.pydata.org/docs/reference/api/pandas.read_csv.html "
   ]
  },
  {
   "cell_type": "code",
   "execution_count": 2,
   "metadata": {
    "id": "058u-qkXP31r"
   },
   "outputs": [],
   "source": [
    "path = 'https://raw.githubusercontent.com/jbrownlee/Datasets/master/ionosphere.csv'\n",
    "\n",
    "# Your code to read the csv from the above path.\n",
    "df = read_csv(path, header=None)"
   ]
  },
  {
   "cell_type": "markdown",
   "metadata": {
    "id": "vG3n2OHrjQsG"
   },
   "source": [
    "See the sample dataset. Print few rows of the dataset. Use dataframe.head() method.\n",
    "\n",
    "Link to API:  https://pandas.pydata.org/docs/reference/api/pandas.DataFrame.head.html"
   ]
  },
  {
   "cell_type": "code",
   "execution_count": 3,
   "metadata": {
    "colab": {
     "base_uri": "https://localhost:8080/",
     "height": 235
    },
    "id": "jx3JTj4sfUIt",
    "outputId": "8b5da05a-f91b-45a3-8ff4-be2e6828d764"
   },
   "outputs": [
    {
     "data": {
      "text/html": [
       "<div>\n",
       "<style scoped>\n",
       "    .dataframe tbody tr th:only-of-type {\n",
       "        vertical-align: middle;\n",
       "    }\n",
       "\n",
       "    .dataframe tbody tr th {\n",
       "        vertical-align: top;\n",
       "    }\n",
       "\n",
       "    .dataframe thead th {\n",
       "        text-align: right;\n",
       "    }\n",
       "</style>\n",
       "<table border=\"1\" class=\"dataframe\">\n",
       "  <thead>\n",
       "    <tr style=\"text-align: right;\">\n",
       "      <th></th>\n",
       "      <th>0</th>\n",
       "      <th>1</th>\n",
       "      <th>2</th>\n",
       "      <th>3</th>\n",
       "      <th>4</th>\n",
       "      <th>5</th>\n",
       "      <th>6</th>\n",
       "      <th>7</th>\n",
       "      <th>8</th>\n",
       "      <th>9</th>\n",
       "      <th>...</th>\n",
       "      <th>25</th>\n",
       "      <th>26</th>\n",
       "      <th>27</th>\n",
       "      <th>28</th>\n",
       "      <th>29</th>\n",
       "      <th>30</th>\n",
       "      <th>31</th>\n",
       "      <th>32</th>\n",
       "      <th>33</th>\n",
       "      <th>34</th>\n",
       "    </tr>\n",
       "  </thead>\n",
       "  <tbody>\n",
       "    <tr>\n",
       "      <th>0</th>\n",
       "      <td>1</td>\n",
       "      <td>0</td>\n",
       "      <td>0.99539</td>\n",
       "      <td>-0.05889</td>\n",
       "      <td>0.85243</td>\n",
       "      <td>0.02306</td>\n",
       "      <td>0.83398</td>\n",
       "      <td>-0.37708</td>\n",
       "      <td>1.00000</td>\n",
       "      <td>0.03760</td>\n",
       "      <td>...</td>\n",
       "      <td>-0.51171</td>\n",
       "      <td>0.41078</td>\n",
       "      <td>-0.46168</td>\n",
       "      <td>0.21266</td>\n",
       "      <td>-0.34090</td>\n",
       "      <td>0.42267</td>\n",
       "      <td>-0.54487</td>\n",
       "      <td>0.18641</td>\n",
       "      <td>-0.45300</td>\n",
       "      <td>g</td>\n",
       "    </tr>\n",
       "    <tr>\n",
       "      <th>1</th>\n",
       "      <td>1</td>\n",
       "      <td>0</td>\n",
       "      <td>1.00000</td>\n",
       "      <td>-0.18829</td>\n",
       "      <td>0.93035</td>\n",
       "      <td>-0.36156</td>\n",
       "      <td>-0.10868</td>\n",
       "      <td>-0.93597</td>\n",
       "      <td>1.00000</td>\n",
       "      <td>-0.04549</td>\n",
       "      <td>...</td>\n",
       "      <td>-0.26569</td>\n",
       "      <td>-0.20468</td>\n",
       "      <td>-0.18401</td>\n",
       "      <td>-0.19040</td>\n",
       "      <td>-0.11593</td>\n",
       "      <td>-0.16626</td>\n",
       "      <td>-0.06288</td>\n",
       "      <td>-0.13738</td>\n",
       "      <td>-0.02447</td>\n",
       "      <td>b</td>\n",
       "    </tr>\n",
       "    <tr>\n",
       "      <th>2</th>\n",
       "      <td>1</td>\n",
       "      <td>0</td>\n",
       "      <td>1.00000</td>\n",
       "      <td>-0.03365</td>\n",
       "      <td>1.00000</td>\n",
       "      <td>0.00485</td>\n",
       "      <td>1.00000</td>\n",
       "      <td>-0.12062</td>\n",
       "      <td>0.88965</td>\n",
       "      <td>0.01198</td>\n",
       "      <td>...</td>\n",
       "      <td>-0.40220</td>\n",
       "      <td>0.58984</td>\n",
       "      <td>-0.22145</td>\n",
       "      <td>0.43100</td>\n",
       "      <td>-0.17365</td>\n",
       "      <td>0.60436</td>\n",
       "      <td>-0.24180</td>\n",
       "      <td>0.56045</td>\n",
       "      <td>-0.38238</td>\n",
       "      <td>g</td>\n",
       "    </tr>\n",
       "    <tr>\n",
       "      <th>3</th>\n",
       "      <td>1</td>\n",
       "      <td>0</td>\n",
       "      <td>1.00000</td>\n",
       "      <td>-0.45161</td>\n",
       "      <td>1.00000</td>\n",
       "      <td>1.00000</td>\n",
       "      <td>0.71216</td>\n",
       "      <td>-1.00000</td>\n",
       "      <td>0.00000</td>\n",
       "      <td>0.00000</td>\n",
       "      <td>...</td>\n",
       "      <td>0.90695</td>\n",
       "      <td>0.51613</td>\n",
       "      <td>1.00000</td>\n",
       "      <td>1.00000</td>\n",
       "      <td>-0.20099</td>\n",
       "      <td>0.25682</td>\n",
       "      <td>1.00000</td>\n",
       "      <td>-0.32382</td>\n",
       "      <td>1.00000</td>\n",
       "      <td>b</td>\n",
       "    </tr>\n",
       "    <tr>\n",
       "      <th>4</th>\n",
       "      <td>1</td>\n",
       "      <td>0</td>\n",
       "      <td>1.00000</td>\n",
       "      <td>-0.02401</td>\n",
       "      <td>0.94140</td>\n",
       "      <td>0.06531</td>\n",
       "      <td>0.92106</td>\n",
       "      <td>-0.23255</td>\n",
       "      <td>0.77152</td>\n",
       "      <td>-0.16399</td>\n",
       "      <td>...</td>\n",
       "      <td>-0.65158</td>\n",
       "      <td>0.13290</td>\n",
       "      <td>-0.53206</td>\n",
       "      <td>0.02431</td>\n",
       "      <td>-0.62197</td>\n",
       "      <td>-0.05707</td>\n",
       "      <td>-0.59573</td>\n",
       "      <td>-0.04608</td>\n",
       "      <td>-0.65697</td>\n",
       "      <td>g</td>\n",
       "    </tr>\n",
       "  </tbody>\n",
       "</table>\n",
       "<p>5 rows × 35 columns</p>\n",
       "</div>"
      ],
      "text/plain": [
       "   0   1        2        3        4        5        6        7        8   \\\n",
       "0   1   0  0.99539 -0.05889  0.85243  0.02306  0.83398 -0.37708  1.00000   \n",
       "1   1   0  1.00000 -0.18829  0.93035 -0.36156 -0.10868 -0.93597  1.00000   \n",
       "2   1   0  1.00000 -0.03365  1.00000  0.00485  1.00000 -0.12062  0.88965   \n",
       "3   1   0  1.00000 -0.45161  1.00000  1.00000  0.71216 -1.00000  0.00000   \n",
       "4   1   0  1.00000 -0.02401  0.94140  0.06531  0.92106 -0.23255  0.77152   \n",
       "\n",
       "        9   ...       25       26       27       28       29       30  \\\n",
       "0  0.03760  ... -0.51171  0.41078 -0.46168  0.21266 -0.34090  0.42267   \n",
       "1 -0.04549  ... -0.26569 -0.20468 -0.18401 -0.19040 -0.11593 -0.16626   \n",
       "2  0.01198  ... -0.40220  0.58984 -0.22145  0.43100 -0.17365  0.60436   \n",
       "3  0.00000  ...  0.90695  0.51613  1.00000  1.00000 -0.20099  0.25682   \n",
       "4 -0.16399  ... -0.65158  0.13290 -0.53206  0.02431 -0.62197 -0.05707   \n",
       "\n",
       "        31       32       33  34  \n",
       "0 -0.54487  0.18641 -0.45300   g  \n",
       "1 -0.06288 -0.13738 -0.02447   b  \n",
       "2 -0.24180  0.56045 -0.38238   g  \n",
       "3  1.00000 -0.32382  1.00000   b  \n",
       "4 -0.59573 -0.04608 -0.65697   g  \n",
       "\n",
       "[5 rows x 35 columns]"
      ]
     },
     "execution_count": 3,
     "metadata": {},
     "output_type": "execute_result"
    }
   ],
   "source": [
    "# Your code to print first few rows of the dataset.\n",
    "df.head()"
   ]
  },
  {
   "cell_type": "markdown",
   "metadata": {
    "id": "uo8Siqyxfhj7"
   },
   "source": [
    "Print the basic info of the dataset. Use dataframe.info() from pandas library\n"
   ]
  },
  {
   "cell_type": "code",
   "execution_count": 4,
   "metadata": {
    "colab": {
     "base_uri": "https://localhost:8080/"
    },
    "id": "VgN9rYV_fiag",
    "outputId": "6e750ac0-5040-4c63-ae80-2dbdec6e97d5"
   },
   "outputs": [
    {
     "name": "stdout",
     "output_type": "stream",
     "text": [
      "<class 'pandas.core.frame.DataFrame'>\n",
      "RangeIndex: 351 entries, 0 to 350\n",
      "Data columns (total 35 columns):\n",
      " #   Column  Non-Null Count  Dtype  \n",
      "---  ------  --------------  -----  \n",
      " 0   0       351 non-null    int64  \n",
      " 1   1       351 non-null    int64  \n",
      " 2   2       351 non-null    float64\n",
      " 3   3       351 non-null    float64\n",
      " 4   4       351 non-null    float64\n",
      " 5   5       351 non-null    float64\n",
      " 6   6       351 non-null    float64\n",
      " 7   7       351 non-null    float64\n",
      " 8   8       351 non-null    float64\n",
      " 9   9       351 non-null    float64\n",
      " 10  10      351 non-null    float64\n",
      " 11  11      351 non-null    float64\n",
      " 12  12      351 non-null    float64\n",
      " 13  13      351 non-null    float64\n",
      " 14  14      351 non-null    float64\n",
      " 15  15      351 non-null    float64\n",
      " 16  16      351 non-null    float64\n",
      " 17  17      351 non-null    float64\n",
      " 18  18      351 non-null    float64\n",
      " 19  19      351 non-null    float64\n",
      " 20  20      351 non-null    float64\n",
      " 21  21      351 non-null    float64\n",
      " 22  22      351 non-null    float64\n",
      " 23  23      351 non-null    float64\n",
      " 24  24      351 non-null    float64\n",
      " 25  25      351 non-null    float64\n",
      " 26  26      351 non-null    float64\n",
      " 27  27      351 non-null    float64\n",
      " 28  28      351 non-null    float64\n",
      " 29  29      351 non-null    float64\n",
      " 30  30      351 non-null    float64\n",
      " 31  31      351 non-null    float64\n",
      " 32  32      351 non-null    float64\n",
      " 33  33      351 non-null    float64\n",
      " 34  34      351 non-null    object \n",
      "dtypes: float64(32), int64(2), object(1)\n",
      "memory usage: 96.1+ KB\n"
     ]
    }
   ],
   "source": [
    "# Your code to print information about the dataframe\n",
    "df.info()"
   ]
  },
  {
   "cell_type": "markdown",
   "metadata": {
    "id": "AX_YFAb4kdl4"
   },
   "source": [
    "Print the shape of the dataframe. Select suitable API call from the pandas library"
   ]
  },
  {
   "cell_type": "code",
   "execution_count": 5,
   "metadata": {
    "colab": {
     "base_uri": "https://localhost:8080/"
    },
    "id": "rlfCOssvf44O",
    "outputId": "46dc6687-e9bc-4490-c620-fd20298fab18"
   },
   "outputs": [
    {
     "data": {
      "text/plain": [
       "(351, 35)"
      ]
     },
     "execution_count": 5,
     "metadata": {},
     "output_type": "execute_result"
    }
   ],
   "source": [
    "# Your code to print the shape of the dataset\n",
    "df.shape"
   ]
  },
  {
   "cell_type": "markdown",
   "metadata": {
    "id": "aekdoY2zkxU4"
   },
   "source": [
    "# Separate the input and output from the dataframe. Input is all columns besides last column. Output is the last column.\n"
   ]
  },
  {
   "cell_type": "code",
   "execution_count": 6,
   "metadata": {
    "id": "_5bh8al2P31s"
   },
   "outputs": [],
   "source": [
    "X = df.values[:, :-1]\n",
    "\n",
    "# Your code to get y - Hint y = df.values[:, some parameters]\n",
    "y = df.values[:, -1]\n"
   ]
  },
  {
   "cell_type": "markdown",
   "metadata": {
    "id": "t7y3GhJDloqk"
   },
   "source": [
    "We have converted everthing in X to 'float' and the letters in column y to the numbers in the following cell."
   ]
  },
  {
   "cell_type": "code",
   "execution_count": 13,
   "metadata": {
    "id": "qVtPf2F9lg17"
   },
   "outputs": [],
   "source": [
    "X = X.astype('float32')\n",
    "y = LabelEncoder().fit_transform(y)"
   ]
  },
  {
   "cell_type": "code",
   "execution_count": 18,
   "metadata": {},
   "outputs": [],
   "source": [
    "LabelEncoder?\n",
    "# Encode target labels with value between 0 and n_classes-1.\n",
    "# This transformer should be used to encode target values, \n",
    "# *i.e.* `y`, and not the input `X`."
   ]
  },
  {
   "cell_type": "code",
   "execution_count": 20,
   "metadata": {},
   "outputs": [],
   "source": [
    "LabelEncoder.fit_transform?"
   ]
  },
  {
   "cell_type": "markdown",
   "metadata": {
    "id": "EZ_aY4H3l9bI"
   },
   "source": [
    "Printing the genral information of the X and y in the following cell"
   ]
  },
  {
   "cell_type": "code",
   "execution_count": 16,
   "metadata": {
    "colab": {
     "base_uri": "https://localhost:8080/"
    },
    "id": "BWBOMrBigew9",
    "outputId": "60d54786-efa6-4255-d70f-26643c828524"
   },
   "outputs": [
    {
     "name": "stdout",
     "output_type": "stream",
     "text": [
      "[[ 1.       0.       0.99539 ... -0.54487  0.18641 -0.453  ]\n",
      " [ 1.       0.       1.      ... -0.06288 -0.13738 -0.02447]\n",
      " [ 1.       0.       1.      ... -0.2418   0.56045 -0.38238]\n",
      " ...\n",
      " [ 1.       0.       0.94701 ...  0.00442  0.92697 -0.00577]\n",
      " [ 1.       0.       0.90608 ... -0.03757  0.87403 -0.16243]\n",
      " [ 1.       0.       0.8471  ... -0.06678  0.85764 -0.06151]]\n",
      "[1 0 1 0 1 0 1 0 1 0 1 0 1 0 1 0 1 0 1 0 1 0 1 0 1 0 1 0 1 0 1 0 1 0 1 0 1\n",
      " 0 1 0 1 0 1 0 1 0 1 0 1 0 1 0 1 0 1 0 1 0 1 0 1 0 1 0 1 0 1 0 1 0 1 0 1 0\n",
      " 1 0 1 0 1 0 1 0 1 0 1 0 1 0 1 0 1 0 1 0 1 0 1 1 0 1 0 1 0 1 0 1 0 1 0 1 0\n",
      " 1 0 1 0 1 0 1 0 1 0 1 0 1 0 1 0 1 0 1 0 1 0 1 0 1 0 1 0 1 0 1 0 1 0 1 0 1\n",
      " 0 1 0 1 0 1 0 1 0 1 0 1 0 1 0 1 0 1 0 1 0 1 0 1 0 1 0 1 0 1 0 1 0 1 0 1 0\n",
      " 1 0 1 0 1 0 1 0 1 0 1 0 1 0 1 0 1 0 1 0 1 0 1 0 1 0 1 0 1 0 1 0 1 0 1 0 1\n",
      " 0 1 0 1 0 1 0 1 0 1 0 1 0 1 0 1 0 1 0 1 0 1 0 1 0 1 0 1 0 1 0 1 1 1 1 1 1\n",
      " 1 1 1 1 1 1 1 1 1 1 1 1 1 1 1 1 1 1 1 1 1 1 1 1 1 1 1 1 1 1 1 1 1 1 1 1 1\n",
      " 1 1 1 1 1 1 1 1 1 1 1 1 1 1 1 1 1 1 1 1 1 1 1 1 1 1 1 1 1 1 1 1 1 1 1 1 1\n",
      " 1 1 1 1 1 1 1 1 1 1 1 1 1 1 1 1 1 1]\n",
      "(351, 34)\n",
      "(351,)\n"
     ]
    }
   ],
   "source": [
    "# Your code to print X\n",
    "print(X)\n",
    "\n",
    "# Your code to print y\n",
    "print(y)\n",
    "\n",
    "# your code to print shape of X. Remember X is a numpy array\n",
    "print(X.shape)\n",
    "\n",
    "# your code to print shape of y. Remember y is a numpy array\n",
    "print(y.shape)\n"
   ]
  },
  {
   "cell_type": "code",
   "execution_count": null,
   "metadata": {},
   "outputs": [],
   "source": []
  },
  {
   "cell_type": "markdown",
   "metadata": {
    "id": "f9ltrLLqmkgW"
   },
   "source": [
    "* Separate X and y into training and test set with a ratio of your choice. \n",
    "* Print the shapes of the resulting arrays.\n",
    "* Get the number of features from X_train. Remember the number of features are the number of inputs.\n",
    "\n",
    "Use sklearn train_test_split class.\n",
    "https://scikit-learn.org/stable/modules/generated/sklearn.model_selection.train_test_split.html\n"
   ]
  },
  {
   "cell_type": "code",
   "execution_count": 21,
   "metadata": {},
   "outputs": [],
   "source": [
    "train_test_split?"
   ]
  },
  {
   "cell_type": "code",
   "execution_count": 22,
   "metadata": {
    "colab": {
     "base_uri": "https://localhost:8080/"
    },
    "id": "-CjFJcAMP31s",
    "outputId": "5f24596d-989a-4cf8-fce7-8c5c8321b43e"
   },
   "outputs": [
    {
     "name": "stdout",
     "output_type": "stream",
     "text": [
      "(235, 34) (116, 34) (235,) (116,)\n"
     ]
    },
    {
     "data": {
      "text/plain": [
       "34"
      ]
     },
     "execution_count": 22,
     "metadata": {},
     "output_type": "execute_result"
    }
   ],
   "source": [
    "# Your code to separate the data into trauning and test set.\n",
    "X_train, X_test, y_train, y_test = train_test_split(X, y, test_size=0.33)\n",
    "\n",
    "# Your code to print shape of X_train\n",
    "# Your code to print shape of X_test\n",
    "# Your code to print shape of y_train\n",
    "# Your code to print shape of X_test\n",
    "print(X_train.shape, X_test.shape, y_train.shape, y_test.shape)\n",
    "\n",
    "\n",
    "n_features = X_train.shape[1]\n",
    "n_features"
   ]
  },
  {
   "cell_type": "code",
   "execution_count": 23,
   "metadata": {},
   "outputs": [
    {
     "data": {
      "text/plain": [
       "array([1, 1, 1, 0, 1, 0, 1, 1, 1, 1, 0, 1, 1, 0, 1, 1, 1, 1, 1, 1, 1, 1,\n",
       "       1, 0, 1, 1, 1, 1, 1, 1, 0, 0, 1, 1, 0, 1, 1, 1, 1, 0, 1, 1, 1, 1,\n",
       "       1, 1, 1, 1, 0, 1, 0, 0, 1, 1, 1, 0, 0, 0, 1, 0, 1, 0, 1, 1, 1, 1,\n",
       "       0, 0, 0, 1, 1, 1, 0, 1, 1, 0, 0, 0, 1, 1, 1, 1, 0, 1, 1, 1, 1, 1,\n",
       "       1, 0, 1, 0, 1, 1, 0, 1, 1, 0, 1, 0, 1, 0, 1, 1, 1, 0, 0, 0, 1, 1,\n",
       "       0, 1, 0, 0, 1, 1, 0, 0, 0, 0, 0, 0, 1, 0, 0, 1, 1, 1, 1, 1, 1, 0,\n",
       "       0, 0, 1, 1, 1, 1, 1, 1, 1, 1, 0, 1, 0, 1, 0, 0, 0, 1, 0, 1, 1, 1,\n",
       "       0, 0, 1, 1, 1, 0, 1, 1, 1, 1, 1, 1, 1, 1, 0, 0, 0, 1, 1, 1, 0, 1,\n",
       "       0, 1, 0, 0, 1, 0, 1, 0, 0, 1, 0, 1, 1, 1, 0, 1, 1, 1, 1, 0, 1, 0,\n",
       "       1, 1, 1, 0, 0, 0, 0, 1, 1, 0, 0, 1, 0, 1, 1, 1, 0, 1, 1, 0, 1, 1,\n",
       "       1, 1, 0, 0, 1, 1, 1, 1, 1, 1, 1, 0, 1, 1, 1])"
      ]
     },
     "execution_count": 23,
     "metadata": {},
     "output_type": "execute_result"
    }
   ],
   "source": [
    "y_train"
   ]
  },
  {
   "cell_type": "code",
   "execution_count": 24,
   "metadata": {},
   "outputs": [
    {
     "data": {
      "text/plain": [
       "array([1, 1, 0, 1, 1, 1, 1, 0, 1, 1, 1, 0, 0, 1, 1, 1, 0, 1, 0, 1, 0, 1,\n",
       "       0, 1, 1, 0, 1, 1, 0, 1, 0, 0, 1, 0, 0, 1, 0, 1, 1, 1, 1, 0, 0, 0,\n",
       "       0, 1, 0, 1, 0, 1, 0, 1, 1, 0, 0, 1, 1, 1, 1, 1, 0, 1, 1, 1, 0, 1,\n",
       "       0, 0, 1, 0, 1, 1, 1, 1, 0, 1, 0, 0, 1, 1, 0, 1, 0, 1, 1, 1, 1, 1,\n",
       "       1, 1, 1, 1, 1, 0, 1, 0, 0, 1, 0, 0, 1, 1, 1, 0, 0, 0, 1, 1, 1, 1,\n",
       "       1, 1, 1, 1, 1, 0])"
      ]
     },
     "execution_count": 24,
     "metadata": {},
     "output_type": "execute_result"
    }
   ],
   "source": [
    "y_test"
   ]
  },
  {
   "cell_type": "markdown",
   "metadata": {
    "id": "dQdqYXJ9pqzC"
   },
   "source": [
    "# Creating a Multi-layer Perceptron using Keras.\n",
    "We have added first and last layers. Create the hidden layers of your choise.\n",
    "You can chose any number of hidden layers and activation function of your chose\n",
    "\n",
    "https://keras.io/api/layers/core_layers/dense/"
   ]
  },
  {
   "cell_type": "code",
   "execution_count": 25,
   "metadata": {
    "id": "hhTE3u-_P31t"
   },
   "outputs": [
    {
     "name": "stdout",
     "output_type": "stream",
     "text": [
      "WARNING:tensorflow:From C:\\Users\\vital\\anaconda3\\Lib\\site-packages\\keras\\src\\backend.py:873: The name tf.get_default_graph is deprecated. Please use tf.compat.v1.get_default_graph instead.\n",
      "\n"
     ]
    }
   ],
   "source": [
    "# define model\n",
    "\n",
    "model = Sequential()\n",
    "model.add(Dense(10, activation='relu', input_shape=(n_features,)))\n",
    "\n",
    "\n",
    "#\n",
    "# Add as many layers with activation functions of your choice\n",
    "#\n",
    "model.add(Dense(8, activation='relu'))\n",
    "\n",
    "\n",
    "\n",
    "model.add(Dense(1, activation='sigmoid'))"
   ]
  },
  {
   "cell_type": "code",
   "execution_count": 26,
   "metadata": {},
   "outputs": [
    {
     "name": "stdout",
     "output_type": "stream",
     "text": [
      "Model: \"sequential\"\n",
      "_________________________________________________________________\n",
      " Layer (type)                Output Shape              Param #   \n",
      "=================================================================\n",
      " dense (Dense)               (None, 10)                350       \n",
      "                                                                 \n",
      " dense_1 (Dense)             (None, 8)                 88        \n",
      "                                                                 \n",
      " dense_2 (Dense)             (None, 1)                 9         \n",
      "                                                                 \n",
      "=================================================================\n",
      "Total params: 447 (1.75 KB)\n",
      "Trainable params: 447 (1.75 KB)\n",
      "Non-trainable params: 0 (0.00 Byte)\n",
      "_________________________________________________________________\n",
      "None\n"
     ]
    }
   ],
   "source": [
    "print(model.summary())"
   ]
  },
  {
   "cell_type": "markdown",
   "metadata": {
    "id": "2NtBU922rH67"
   },
   "source": [
    "In the next cell, we trained the above neural network model and tested its accuracy. As this concept has still not benn covered in the class, just run the code to check the accuracy."
   ]
  },
  {
   "cell_type": "code",
   "execution_count": 27,
   "metadata": {},
   "outputs": [
    {
     "name": "stdout",
     "output_type": "stream",
     "text": [
      "WARNING:tensorflow:From C:\\Users\\vital\\anaconda3\\Lib\\site-packages\\keras\\src\\optimizers\\__init__.py:309: The name tf.train.Optimizer is deprecated. Please use tf.compat.v1.train.Optimizer instead.\n",
      "\n"
     ]
    }
   ],
   "source": [
    "# compile the model\n",
    "\n",
    "# Training method: optimizer - \"adam\"\n",
    "# adam (Adaptive Moment Estimation) Optimizer is one of the most common optimizers\n",
    "# Measure of error in the Backpropagation algorithm: 'binary_crossentropy'\n",
    "# The metric by which we will perform optimization is 'accuracy'\n",
    "\n",
    "model.compile(optimizer='adam', loss='binary_crossentropy', metrics=['accuracy'])"
   ]
  },
  {
   "cell_type": "code",
   "execution_count": 28,
   "metadata": {},
   "outputs": [
    {
     "name": "stdout",
     "output_type": "stream",
     "text": [
      "Epoch 1/150\n",
      "WARNING:tensorflow:From C:\\Users\\vital\\anaconda3\\Lib\\site-packages\\keras\\src\\utils\\tf_utils.py:492: The name tf.ragged.RaggedTensorValue is deprecated. Please use tf.compat.v1.ragged.RaggedTensorValue instead.\n",
      "\n",
      "WARNING:tensorflow:From C:\\Users\\vital\\anaconda3\\Lib\\site-packages\\keras\\src\\engine\\base_layer_utils.py:384: The name tf.executing_eagerly_outside_functions is deprecated. Please use tf.compat.v1.executing_eagerly_outside_functions instead.\n",
      "\n",
      "8/8 [==============================] - 1s 2ms/step - loss: 0.7138 - accuracy: 0.3362\n",
      "Epoch 2/150\n",
      "8/8 [==============================] - 0s 2ms/step - loss: 0.6847 - accuracy: 0.3447\n",
      "Epoch 3/150\n",
      "8/8 [==============================] - 0s 2ms/step - loss: 0.6674 - accuracy: 0.5489\n",
      "Epoch 4/150\n",
      "8/8 [==============================] - 0s 2ms/step - loss: 0.6522 - accuracy: 0.7021\n",
      "Epoch 5/150\n",
      "8/8 [==============================] - 0s 2ms/step - loss: 0.6417 - accuracy: 0.7489\n",
      "Epoch 6/150\n",
      "8/8 [==============================] - 0s 2ms/step - loss: 0.6342 - accuracy: 0.7745\n",
      "Epoch 7/150\n",
      "8/8 [==============================] - 0s 1ms/step - loss: 0.6278 - accuracy: 0.7957\n",
      "Epoch 8/150\n",
      "8/8 [==============================] - 0s 2ms/step - loss: 0.6210 - accuracy: 0.8298\n",
      "Epoch 9/150\n",
      "8/8 [==============================] - 0s 2ms/step - loss: 0.6138 - accuracy: 0.8511\n",
      "Epoch 10/150\n",
      "8/8 [==============================] - 0s 2ms/step - loss: 0.6062 - accuracy: 0.8511\n",
      "Epoch 11/150\n",
      "8/8 [==============================] - 0s 2ms/step - loss: 0.5988 - accuracy: 0.8681\n",
      "Epoch 12/150\n",
      "8/8 [==============================] - 0s 2ms/step - loss: 0.5906 - accuracy: 0.8809\n",
      "Epoch 13/150\n",
      "8/8 [==============================] - 0s 2ms/step - loss: 0.5822 - accuracy: 0.8894\n",
      "Epoch 14/150\n",
      "8/8 [==============================] - 0s 2ms/step - loss: 0.5739 - accuracy: 0.8936\n",
      "Epoch 15/150\n",
      "8/8 [==============================] - 0s 2ms/step - loss: 0.5645 - accuracy: 0.8979\n",
      "Epoch 16/150\n",
      "8/8 [==============================] - 0s 2ms/step - loss: 0.5551 - accuracy: 0.8979\n",
      "Epoch 17/150\n",
      "8/8 [==============================] - 0s 2ms/step - loss: 0.5450 - accuracy: 0.9021\n",
      "Epoch 18/150\n",
      "8/8 [==============================] - 0s 2ms/step - loss: 0.5350 - accuracy: 0.9021\n",
      "Epoch 19/150\n",
      "8/8 [==============================] - 0s 2ms/step - loss: 0.5242 - accuracy: 0.9106\n",
      "Epoch 20/150\n",
      "8/8 [==============================] - 0s 1ms/step - loss: 0.5129 - accuracy: 0.9064\n",
      "Epoch 21/150\n",
      "8/8 [==============================] - 0s 2ms/step - loss: 0.5012 - accuracy: 0.9106\n",
      "Epoch 22/150\n",
      "8/8 [==============================] - 0s 2ms/step - loss: 0.4895 - accuracy: 0.9191\n",
      "Epoch 23/150\n",
      "8/8 [==============================] - 0s 2ms/step - loss: 0.4767 - accuracy: 0.9191\n",
      "Epoch 24/150\n",
      "8/8 [==============================] - 0s 2ms/step - loss: 0.4639 - accuracy: 0.9149\n",
      "Epoch 25/150\n",
      "8/8 [==============================] - 0s 2ms/step - loss: 0.4506 - accuracy: 0.9191\n",
      "Epoch 26/150\n",
      "8/8 [==============================] - 0s 2ms/step - loss: 0.4382 - accuracy: 0.9106\n",
      "Epoch 27/150\n",
      "8/8 [==============================] - 0s 2ms/step - loss: 0.4225 - accuracy: 0.9149\n",
      "Epoch 28/150\n",
      "8/8 [==============================] - 0s 2ms/step - loss: 0.4082 - accuracy: 0.9234\n",
      "Epoch 29/150\n",
      "8/8 [==============================] - 0s 2ms/step - loss: 0.3935 - accuracy: 0.9277\n",
      "Epoch 30/150\n",
      "8/8 [==============================] - 0s 2ms/step - loss: 0.3786 - accuracy: 0.9234\n",
      "Epoch 31/150\n",
      "8/8 [==============================] - 0s 2ms/step - loss: 0.3645 - accuracy: 0.9234\n",
      "Epoch 32/150\n",
      "8/8 [==============================] - 0s 2ms/step - loss: 0.3498 - accuracy: 0.9277\n",
      "Epoch 33/150\n",
      "8/8 [==============================] - 0s 2ms/step - loss: 0.3375 - accuracy: 0.9234\n",
      "Epoch 34/150\n",
      "8/8 [==============================] - 0s 2ms/step - loss: 0.3234 - accuracy: 0.9234\n",
      "Epoch 35/150\n",
      "8/8 [==============================] - 0s 2ms/step - loss: 0.3105 - accuracy: 0.9234\n",
      "Epoch 36/150\n",
      "8/8 [==============================] - 0s 2ms/step - loss: 0.2982 - accuracy: 0.9234\n",
      "Epoch 37/150\n",
      "8/8 [==============================] - 0s 2ms/step - loss: 0.2860 - accuracy: 0.9234\n",
      "Epoch 38/150\n",
      "8/8 [==============================] - 0s 2ms/step - loss: 0.2760 - accuracy: 0.9234\n",
      "Epoch 39/150\n",
      "8/8 [==============================] - 0s 4ms/step - loss: 0.2660 - accuracy: 0.9234\n",
      "Epoch 40/150\n",
      "8/8 [==============================] - 0s 2ms/step - loss: 0.2559 - accuracy: 0.9234\n",
      "Epoch 41/150\n",
      "8/8 [==============================] - 0s 2ms/step - loss: 0.2455 - accuracy: 0.9234\n",
      "Epoch 42/150\n",
      "8/8 [==============================] - 0s 2ms/step - loss: 0.2361 - accuracy: 0.9234\n",
      "Epoch 43/150\n",
      "8/8 [==============================] - 0s 2ms/step - loss: 0.2269 - accuracy: 0.9277\n",
      "Epoch 44/150\n",
      "8/8 [==============================] - 0s 1ms/step - loss: 0.2179 - accuracy: 0.9319\n",
      "Epoch 45/150\n",
      "8/8 [==============================] - 0s 2ms/step - loss: 0.2105 - accuracy: 0.9319\n",
      "Epoch 46/150\n",
      "8/8 [==============================] - 0s 2ms/step - loss: 0.2027 - accuracy: 0.9404\n",
      "Epoch 47/150\n",
      "8/8 [==============================] - 0s 2ms/step - loss: 0.1963 - accuracy: 0.9404\n",
      "Epoch 48/150\n",
      "8/8 [==============================] - 0s 2ms/step - loss: 0.1894 - accuracy: 0.9404\n",
      "Epoch 49/150\n",
      "8/8 [==============================] - 0s 2ms/step - loss: 0.1838 - accuracy: 0.9404\n",
      "Epoch 50/150\n",
      "8/8 [==============================] - 0s 1ms/step - loss: 0.1781 - accuracy: 0.9447\n",
      "Epoch 51/150\n",
      "8/8 [==============================] - 0s 1ms/step - loss: 0.1727 - accuracy: 0.9489\n",
      "Epoch 52/150\n",
      "8/8 [==============================] - 0s 1ms/step - loss: 0.1679 - accuracy: 0.9574\n",
      "Epoch 53/150\n",
      "8/8 [==============================] - 0s 1ms/step - loss: 0.1637 - accuracy: 0.9489\n",
      "Epoch 54/150\n",
      "8/8 [==============================] - 0s 1ms/step - loss: 0.1588 - accuracy: 0.9617\n",
      "Epoch 55/150\n",
      "8/8 [==============================] - 0s 1ms/step - loss: 0.1552 - accuracy: 0.9574\n",
      "Epoch 56/150\n",
      "8/8 [==============================] - 0s 2ms/step - loss: 0.1520 - accuracy: 0.9532\n",
      "Epoch 57/150\n",
      "8/8 [==============================] - 0s 1ms/step - loss: 0.1471 - accuracy: 0.9617\n",
      "Epoch 58/150\n",
      "8/8 [==============================] - 0s 2ms/step - loss: 0.1449 - accuracy: 0.9617\n",
      "Epoch 59/150\n",
      "8/8 [==============================] - 0s 2ms/step - loss: 0.1405 - accuracy: 0.9617\n",
      "Epoch 60/150\n",
      "8/8 [==============================] - 0s 1ms/step - loss: 0.1362 - accuracy: 0.9660\n",
      "Epoch 61/150\n",
      "8/8 [==============================] - 0s 1ms/step - loss: 0.1330 - accuracy: 0.9660\n",
      "Epoch 62/150\n",
      "8/8 [==============================] - 0s 2ms/step - loss: 0.1298 - accuracy: 0.9660\n",
      "Epoch 63/150\n",
      "8/8 [==============================] - 0s 1ms/step - loss: 0.1262 - accuracy: 0.9660\n",
      "Epoch 64/150\n",
      "8/8 [==============================] - 0s 1ms/step - loss: 0.1231 - accuracy: 0.9660\n",
      "Epoch 65/150\n",
      "8/8 [==============================] - 0s 1ms/step - loss: 0.1200 - accuracy: 0.9702\n",
      "Epoch 66/150\n",
      "8/8 [==============================] - 0s 2ms/step - loss: 0.1173 - accuracy: 0.9702\n",
      "Epoch 67/150\n",
      "8/8 [==============================] - 0s 2ms/step - loss: 0.1145 - accuracy: 0.9787\n",
      "Epoch 68/150\n",
      "8/8 [==============================] - 0s 1ms/step - loss: 0.1121 - accuracy: 0.9787\n",
      "Epoch 69/150\n",
      "8/8 [==============================] - 0s 1ms/step - loss: 0.1093 - accuracy: 0.9702\n",
      "Epoch 70/150\n",
      "8/8 [==============================] - 0s 2ms/step - loss: 0.1077 - accuracy: 0.9745\n",
      "Epoch 71/150\n",
      "8/8 [==============================] - 0s 1ms/step - loss: 0.1051 - accuracy: 0.9745\n",
      "Epoch 72/150\n",
      "8/8 [==============================] - 0s 2ms/step - loss: 0.1028 - accuracy: 0.9787\n",
      "Epoch 73/150\n",
      "8/8 [==============================] - 0s 1ms/step - loss: 0.1015 - accuracy: 0.9787\n",
      "Epoch 74/150\n",
      "8/8 [==============================] - 0s 2ms/step - loss: 0.0990 - accuracy: 0.9787\n",
      "Epoch 75/150\n",
      "8/8 [==============================] - 0s 1ms/step - loss: 0.0978 - accuracy: 0.9787\n",
      "Epoch 76/150\n",
      "8/8 [==============================] - 0s 2ms/step - loss: 0.0959 - accuracy: 0.9787\n",
      "Epoch 77/150\n",
      "8/8 [==============================] - 0s 2ms/step - loss: 0.0940 - accuracy: 0.9787\n",
      "Epoch 78/150\n",
      "8/8 [==============================] - 0s 2ms/step - loss: 0.0923 - accuracy: 0.9787\n",
      "Epoch 79/150\n",
      "8/8 [==============================] - 0s 1ms/step - loss: 0.0902 - accuracy: 0.9787\n",
      "Epoch 80/150\n"
     ]
    },
    {
     "name": "stdout",
     "output_type": "stream",
     "text": [
      "8/8 [==============================] - 0s 2ms/step - loss: 0.0886 - accuracy: 0.9787\n",
      "Epoch 81/150\n",
      "8/8 [==============================] - 0s 2ms/step - loss: 0.0874 - accuracy: 0.9787\n",
      "Epoch 82/150\n",
      "8/8 [==============================] - 0s 2ms/step - loss: 0.0856 - accuracy: 0.9787\n",
      "Epoch 83/150\n",
      "8/8 [==============================] - 0s 1ms/step - loss: 0.0846 - accuracy: 0.9787\n",
      "Epoch 84/150\n",
      "8/8 [==============================] - 0s 2ms/step - loss: 0.0830 - accuracy: 0.9787\n",
      "Epoch 85/150\n",
      "8/8 [==============================] - 0s 1ms/step - loss: 0.0811 - accuracy: 0.9787\n",
      "Epoch 86/150\n",
      "8/8 [==============================] - 0s 2ms/step - loss: 0.0802 - accuracy: 0.9787\n",
      "Epoch 87/150\n",
      "8/8 [==============================] - 0s 2ms/step - loss: 0.0787 - accuracy: 0.9787\n",
      "Epoch 88/150\n",
      "8/8 [==============================] - 0s 1ms/step - loss: 0.0773 - accuracy: 0.9787\n",
      "Epoch 89/150\n",
      "8/8 [==============================] - 0s 1ms/step - loss: 0.0762 - accuracy: 0.9787\n",
      "Epoch 90/150\n",
      "8/8 [==============================] - 0s 1ms/step - loss: 0.0755 - accuracy: 0.9787\n",
      "Epoch 91/150\n",
      "8/8 [==============================] - 0s 1ms/step - loss: 0.0740 - accuracy: 0.9787\n",
      "Epoch 92/150\n",
      "8/8 [==============================] - 0s 2ms/step - loss: 0.0730 - accuracy: 0.9787\n",
      "Epoch 93/150\n",
      "8/8 [==============================] - 0s 1ms/step - loss: 0.0721 - accuracy: 0.9787\n",
      "Epoch 94/150\n",
      "8/8 [==============================] - 0s 2ms/step - loss: 0.0709 - accuracy: 0.9787\n",
      "Epoch 95/150\n",
      "8/8 [==============================] - 0s 2ms/step - loss: 0.0699 - accuracy: 0.9787\n",
      "Epoch 96/150\n",
      "8/8 [==============================] - 0s 2ms/step - loss: 0.0689 - accuracy: 0.9830\n",
      "Epoch 97/150\n",
      "8/8 [==============================] - 0s 2ms/step - loss: 0.0680 - accuracy: 0.9830\n",
      "Epoch 98/150\n",
      "8/8 [==============================] - 0s 1ms/step - loss: 0.0674 - accuracy: 0.9830\n",
      "Epoch 99/150\n",
      "8/8 [==============================] - 0s 1ms/step - loss: 0.0664 - accuracy: 0.9830\n",
      "Epoch 100/150\n",
      "8/8 [==============================] - 0s 1ms/step - loss: 0.0657 - accuracy: 0.9830\n",
      "Epoch 101/150\n",
      "8/8 [==============================] - 0s 1ms/step - loss: 0.0644 - accuracy: 0.9872\n",
      "Epoch 102/150\n",
      "8/8 [==============================] - 0s 1ms/step - loss: 0.0633 - accuracy: 0.9830\n",
      "Epoch 103/150\n",
      "8/8 [==============================] - 0s 1ms/step - loss: 0.0623 - accuracy: 0.9830\n",
      "Epoch 104/150\n",
      "8/8 [==============================] - 0s 1ms/step - loss: 0.0614 - accuracy: 0.9830\n",
      "Epoch 105/150\n",
      "8/8 [==============================] - 0s 1ms/step - loss: 0.0607 - accuracy: 0.9872\n",
      "Epoch 106/150\n",
      "8/8 [==============================] - 0s 2ms/step - loss: 0.0593 - accuracy: 0.9872\n",
      "Epoch 107/150\n",
      "8/8 [==============================] - 0s 2ms/step - loss: 0.0583 - accuracy: 0.9872\n",
      "Epoch 108/150\n",
      "8/8 [==============================] - 0s 1ms/step - loss: 0.0575 - accuracy: 0.9872\n",
      "Epoch 109/150\n",
      "8/8 [==============================] - 0s 2ms/step - loss: 0.0562 - accuracy: 0.9872\n",
      "Epoch 110/150\n",
      "8/8 [==============================] - 0s 1ms/step - loss: 0.0553 - accuracy: 0.9872\n",
      "Epoch 111/150\n",
      "8/8 [==============================] - 0s 1ms/step - loss: 0.0531 - accuracy: 0.9872\n",
      "Epoch 112/150\n",
      "8/8 [==============================] - 0s 1ms/step - loss: 0.0521 - accuracy: 0.9872\n",
      "Epoch 113/150\n",
      "8/8 [==============================] - 0s 1ms/step - loss: 0.0515 - accuracy: 0.9872\n",
      "Epoch 114/150\n",
      "8/8 [==============================] - 0s 1ms/step - loss: 0.0499 - accuracy: 0.9872\n",
      "Epoch 115/150\n",
      "8/8 [==============================] - 0s 2ms/step - loss: 0.0489 - accuracy: 0.9915\n",
      "Epoch 116/150\n",
      "8/8 [==============================] - 0s 1ms/step - loss: 0.0481 - accuracy: 0.9915\n",
      "Epoch 117/150\n",
      "8/8 [==============================] - 0s 1ms/step - loss: 0.0469 - accuracy: 0.9915\n",
      "Epoch 118/150\n",
      "8/8 [==============================] - 0s 1ms/step - loss: 0.0463 - accuracy: 0.9915\n",
      "Epoch 119/150\n",
      "8/8 [==============================] - 0s 1ms/step - loss: 0.0459 - accuracy: 0.9915\n",
      "Epoch 120/150\n",
      "8/8 [==============================] - 0s 1ms/step - loss: 0.0448 - accuracy: 0.9915\n",
      "Epoch 121/150\n",
      "8/8 [==============================] - 0s 1ms/step - loss: 0.0441 - accuracy: 0.9915\n",
      "Epoch 122/150\n",
      "8/8 [==============================] - 0s 2ms/step - loss: 0.0437 - accuracy: 0.9915\n",
      "Epoch 123/150\n",
      "8/8 [==============================] - 0s 1ms/step - loss: 0.0432 - accuracy: 0.9915\n",
      "Epoch 124/150\n",
      "8/8 [==============================] - 0s 1ms/step - loss: 0.0428 - accuracy: 0.9915\n",
      "Epoch 125/150\n",
      "8/8 [==============================] - 0s 1ms/step - loss: 0.0418 - accuracy: 0.9915\n",
      "Epoch 126/150\n",
      "8/8 [==============================] - 0s 2ms/step - loss: 0.0412 - accuracy: 0.9915\n",
      "Epoch 127/150\n",
      "8/8 [==============================] - 0s 1ms/step - loss: 0.0408 - accuracy: 0.9915\n",
      "Epoch 128/150\n",
      "8/8 [==============================] - 0s 2ms/step - loss: 0.0406 - accuracy: 0.9915\n",
      "Epoch 129/150\n",
      "8/8 [==============================] - 0s 1ms/step - loss: 0.0400 - accuracy: 0.9915\n",
      "Epoch 130/150\n",
      "8/8 [==============================] - 0s 2ms/step - loss: 0.0393 - accuracy: 0.9915\n",
      "Epoch 131/150\n",
      "8/8 [==============================] - 0s 2ms/step - loss: 0.0391 - accuracy: 0.9915\n",
      "Epoch 132/150\n",
      "8/8 [==============================] - 0s 2ms/step - loss: 0.0385 - accuracy: 0.9915\n",
      "Epoch 133/150\n",
      "8/8 [==============================] - 0s 2ms/step - loss: 0.0379 - accuracy: 0.9915\n",
      "Epoch 134/150\n",
      "8/8 [==============================] - 0s 2ms/step - loss: 0.0375 - accuracy: 0.9915\n",
      "Epoch 135/150\n",
      "8/8 [==============================] - 0s 1ms/step - loss: 0.0372 - accuracy: 0.9915\n",
      "Epoch 136/150\n",
      "8/8 [==============================] - 0s 2ms/step - loss: 0.0370 - accuracy: 0.9915\n",
      "Epoch 137/150\n",
      "8/8 [==============================] - 0s 2ms/step - loss: 0.0364 - accuracy: 0.9915\n",
      "Epoch 138/150\n",
      "8/8 [==============================] - 0s 2ms/step - loss: 0.0364 - accuracy: 0.9915\n",
      "Epoch 139/150\n",
      "8/8 [==============================] - 0s 2ms/step - loss: 0.0356 - accuracy: 0.9915\n",
      "Epoch 140/150\n",
      "8/8 [==============================] - 0s 2ms/step - loss: 0.0358 - accuracy: 0.9957\n",
      "Epoch 141/150\n",
      "8/8 [==============================] - 0s 1ms/step - loss: 0.0351 - accuracy: 0.9957\n",
      "Epoch 142/150\n",
      "8/8 [==============================] - 0s 1ms/step - loss: 0.0348 - accuracy: 0.9957\n",
      "Epoch 143/150\n",
      "8/8 [==============================] - 0s 1ms/step - loss: 0.0343 - accuracy: 0.9957\n",
      "Epoch 144/150\n",
      "8/8 [==============================] - 0s 2ms/step - loss: 0.0340 - accuracy: 0.9957\n",
      "Epoch 145/150\n",
      "8/8 [==============================] - 0s 2ms/step - loss: 0.0336 - accuracy: 0.9957\n",
      "Epoch 146/150\n",
      "8/8 [==============================] - 0s 1ms/step - loss: 0.0336 - accuracy: 0.9957\n",
      "Epoch 147/150\n",
      "8/8 [==============================] - 0s 1ms/step - loss: 0.0331 - accuracy: 0.9957\n",
      "Epoch 148/150\n",
      "8/8 [==============================] - 0s 2ms/step - loss: 0.0330 - accuracy: 0.9957\n",
      "Epoch 149/150\n",
      "8/8 [==============================] - 0s 1ms/step - loss: 0.0327 - accuracy: 0.9957\n",
      "Epoch 150/150\n",
      "8/8 [==============================] - 0s 1ms/step - loss: 0.0322 - accuracy: 0.9957\n"
     ]
    }
   ],
   "source": [
    "# fit the model\n",
    "\n",
    "# mini-sample size batch_size = 32, we analyze at each step 32 lines,\n",
    "# we determine the direction of the gradient from them and, in accordance with this\n",
    "# determine the size of the weights\n",
    "# the number of epochs = 150 - those how many times we carry out training \n",
    "# verbose = 1 - printing information in the learning process\n",
    "\n",
    "history = model.fit(X_train, y_train, epochs=150, batch_size=32, verbose=1)"
   ]
  },
  {
   "cell_type": "code",
   "execution_count": 29,
   "metadata": {
    "colab": {
     "base_uri": "https://localhost:8080/"
    },
    "id": "krgB1SuRP31t",
    "outputId": "7b2d16d5-d89d-49fe-860b-2e2d514828b7"
   },
   "outputs": [
    {
     "name": "stdout",
     "output_type": "stream",
     "text": [
      "4/4 [==============================] - 0s 2ms/step - loss: 0.3454 - accuracy: 0.8966\n",
      "Test Accuracy: 0.897\n"
     ]
    }
   ],
   "source": [
    "# evaluate the model\n",
    "\n",
    "loss, acc = model.evaluate(X_test, y_test, verbose=1)\n",
    "print('Test Accuracy: %.3f' % acc)"
   ]
  },
  {
   "cell_type": "code",
   "execution_count": 30,
   "metadata": {},
   "outputs": [
    {
     "data": {
      "image/png": "[encoded data removed]",
      "text/plain": [
       "<Figure size 1500x700 with 1 Axes>"
      ]
     },
     "metadata": {},
     "output_type": "display_data"
    }
   ],
   "source": [
    "# Accuracy graphs during training\n",
    "import matplotlib.pyplot as plt\n",
    "\n",
    "history_dict = history.history\n",
    "Accuracy = history_dict['accuracy']\n",
    "plt.figure(num=1, figsize=(15,7))\n",
    "plt.plot(Accuracy, 'bo', label='Training accuracy')\n",
    "plt.xlabel('Epochs')\n",
    "plt.ylabel('Accuracy')\n",
    "plt.legend()\n",
    "plt.show()"
   ]
  },
  {
   "cell_type": "markdown",
   "metadata": {},
   "source": [
    "** How much accuracy have you got? Compare the accuracy with your peers. **\n",
    "\n",
    "** Now, change your model and activation function to get the better accuracy as compared to your peers **"
   ]
  },
  {
   "cell_type": "code",
   "execution_count": 57,
   "metadata": {},
   "outputs": [],
   "source": [
    "Dense?"
   ]
  },
  {
   "cell_type": "code",
   "execution_count": 51,
   "metadata": {},
   "outputs": [],
   "source": [
    "# define the NEW model\n",
    "\n",
    "model = Sequential()\n",
    "model.add(Dense(10, activation='gelu', input_shape=(n_features,)))\n",
    "\n",
    "\n",
    "#\n",
    "# Add as many layers with activation functions of your choice\n",
    "#\n",
    "model.add(Dense(8, activation='gelu'))\n",
    "model.add(Dense(5, activation='gelu'))\n",
    "\n",
    "\n",
    "model.add(Dense(1, activation='sigmoid'))"
   ]
  },
  {
   "cell_type": "code",
   "execution_count": 52,
   "metadata": {},
   "outputs": [
    {
     "name": "stdout",
     "output_type": "stream",
     "text": [
      "Model: \"sequential_5\"\n",
      "_________________________________________________________________\n",
      " Layer (type)                Output Shape              Param #   \n",
      "=================================================================\n",
      " dense_20 (Dense)            (None, 10)                350       \n",
      "                                                                 \n",
      " dense_21 (Dense)            (None, 8)                 88        \n",
      "                                                                 \n",
      " dense_22 (Dense)            (None, 5)                 45        \n",
      "                                                                 \n",
      " dense_23 (Dense)            (None, 1)                 6         \n",
      "                                                                 \n",
      "=================================================================\n",
      "Total params: 489 (1.91 KB)\n",
      "Trainable params: 489 (1.91 KB)\n",
      "Non-trainable params: 0 (0.00 Byte)\n",
      "_________________________________________________________________\n",
      "None\n"
     ]
    }
   ],
   "source": [
    "print(model.summary())"
   ]
  },
  {
   "cell_type": "code",
   "execution_count": 53,
   "metadata": {},
   "outputs": [],
   "source": [
    "model.compile(optimizer='adam', loss='binary_crossentropy', metrics=['accuracy'])"
   ]
  },
  {
   "cell_type": "code",
   "execution_count": 54,
   "metadata": {},
   "outputs": [
    {
     "name": "stdout",
     "output_type": "stream",
     "text": [
      "Epoch 1/150\n",
      "8/8 [==============================] - 1s 2ms/step - loss: 0.6574 - accuracy: 0.7149\n",
      "Epoch 2/150\n",
      "8/8 [==============================] - 0s 2ms/step - loss: 0.6407 - accuracy: 0.7149\n",
      "Epoch 3/150\n",
      "8/8 [==============================] - 0s 2ms/step - loss: 0.6213 - accuracy: 0.7319\n",
      "Epoch 4/150\n",
      "8/8 [==============================] - 0s 2ms/step - loss: 0.6026 - accuracy: 0.7319\n",
      "Epoch 5/150\n",
      "8/8 [==============================] - 0s 2ms/step - loss: 0.5817 - accuracy: 0.7234\n",
      "Epoch 6/150\n",
      "8/8 [==============================] - 0s 2ms/step - loss: 0.5622 - accuracy: 0.7234\n",
      "Epoch 7/150\n",
      "8/8 [==============================] - 0s 2ms/step - loss: 0.5436 - accuracy: 0.7277\n",
      "Epoch 8/150\n",
      "8/8 [==============================] - 0s 2ms/step - loss: 0.5251 - accuracy: 0.7319\n",
      "Epoch 9/150\n",
      "8/8 [==============================] - 0s 2ms/step - loss: 0.5080 - accuracy: 0.7362\n",
      "Epoch 10/150\n",
      "8/8 [==============================] - 0s 2ms/step - loss: 0.4915 - accuracy: 0.7404\n",
      "Epoch 11/150\n",
      "8/8 [==============================] - 0s 2ms/step - loss: 0.4746 - accuracy: 0.7617\n",
      "Epoch 12/150\n",
      "8/8 [==============================] - 0s 2ms/step - loss: 0.4582 - accuracy: 0.7702\n",
      "Epoch 13/150\n",
      "8/8 [==============================] - 0s 2ms/step - loss: 0.4428 - accuracy: 0.7745\n",
      "Epoch 14/150\n",
      "8/8 [==============================] - 0s 2ms/step - loss: 0.4258 - accuracy: 0.7872\n",
      "Epoch 15/150\n",
      "8/8 [==============================] - 0s 2ms/step - loss: 0.4124 - accuracy: 0.8000\n",
      "Epoch 16/150\n",
      "8/8 [==============================] - 0s 2ms/step - loss: 0.3930 - accuracy: 0.8213\n",
      "Epoch 17/150\n",
      "8/8 [==============================] - 0s 2ms/step - loss: 0.3780 - accuracy: 0.8298\n",
      "Epoch 18/150\n",
      "8/8 [==============================] - 0s 2ms/step - loss: 0.3631 - accuracy: 0.8468\n",
      "Epoch 19/150\n",
      "8/8 [==============================] - 0s 2ms/step - loss: 0.3497 - accuracy: 0.8681\n",
      "Epoch 20/150\n",
      "8/8 [==============================] - 0s 2ms/step - loss: 0.3370 - accuracy: 0.8723\n",
      "Epoch 21/150\n",
      "8/8 [==============================] - 0s 2ms/step - loss: 0.3239 - accuracy: 0.8809\n",
      "Epoch 22/150\n",
      "8/8 [==============================] - 0s 2ms/step - loss: 0.3128 - accuracy: 0.8894\n",
      "Epoch 23/150\n",
      "8/8 [==============================] - 0s 2ms/step - loss: 0.3027 - accuracy: 0.8979\n",
      "Epoch 24/150\n",
      "8/8 [==============================] - 0s 2ms/step - loss: 0.2928 - accuracy: 0.8979\n",
      "Epoch 25/150\n",
      "8/8 [==============================] - 0s 2ms/step - loss: 0.2812 - accuracy: 0.9021\n",
      "Epoch 26/150\n",
      "8/8 [==============================] - 0s 2ms/step - loss: 0.2723 - accuracy: 0.9021\n",
      "Epoch 27/150\n",
      "8/8 [==============================] - 0s 2ms/step - loss: 0.2634 - accuracy: 0.9021\n",
      "Epoch 28/150\n",
      "8/8 [==============================] - 0s 2ms/step - loss: 0.2537 - accuracy: 0.9106\n",
      "Epoch 29/150\n",
      "8/8 [==============================] - 0s 2ms/step - loss: 0.2455 - accuracy: 0.9106\n",
      "Epoch 30/150\n",
      "8/8 [==============================] - 0s 2ms/step - loss: 0.2372 - accuracy: 0.9106\n",
      "Epoch 31/150\n",
      "8/8 [==============================] - 0s 2ms/step - loss: 0.2304 - accuracy: 0.9106\n",
      "Epoch 32/150\n",
      "8/8 [==============================] - 0s 2ms/step - loss: 0.2222 - accuracy: 0.9149\n",
      "Epoch 33/150\n",
      "8/8 [==============================] - 0s 2ms/step - loss: 0.2150 - accuracy: 0.9149\n",
      "Epoch 34/150\n",
      "8/8 [==============================] - 0s 2ms/step - loss: 0.2088 - accuracy: 0.9149\n",
      "Epoch 35/150\n",
      "8/8 [==============================] - 0s 2ms/step - loss: 0.2011 - accuracy: 0.9234\n",
      "Epoch 36/150\n",
      "8/8 [==============================] - 0s 2ms/step - loss: 0.1954 - accuracy: 0.9277\n",
      "Epoch 37/150\n",
      "8/8 [==============================] - 0s 2ms/step - loss: 0.1898 - accuracy: 0.9277\n",
      "Epoch 38/150\n",
      "8/8 [==============================] - 0s 2ms/step - loss: 0.1832 - accuracy: 0.9319\n",
      "Epoch 39/150\n",
      "8/8 [==============================] - 0s 2ms/step - loss: 0.1778 - accuracy: 0.9362\n",
      "Epoch 40/150\n",
      "8/8 [==============================] - 0s 2ms/step - loss: 0.1742 - accuracy: 0.9362\n",
      "Epoch 41/150\n",
      "8/8 [==============================] - 0s 2ms/step - loss: 0.1675 - accuracy: 0.9447\n",
      "Epoch 42/150\n",
      "8/8 [==============================] - 0s 2ms/step - loss: 0.1654 - accuracy: 0.9404\n",
      "Epoch 43/150\n",
      "8/8 [==============================] - 0s 2ms/step - loss: 0.1582 - accuracy: 0.9447\n",
      "Epoch 44/150\n",
      "8/8 [==============================] - 0s 2ms/step - loss: 0.1537 - accuracy: 0.9489\n",
      "Epoch 45/150\n",
      "8/8 [==============================] - 0s 2ms/step - loss: 0.1491 - accuracy: 0.9489\n",
      "Epoch 46/150\n",
      "8/8 [==============================] - 0s 2ms/step - loss: 0.1448 - accuracy: 0.9489\n",
      "Epoch 47/150\n",
      "8/8 [==============================] - 0s 1ms/step - loss: 0.1402 - accuracy: 0.9489\n",
      "Epoch 48/150\n",
      "8/8 [==============================] - 0s 2ms/step - loss: 0.1379 - accuracy: 0.9489\n",
      "Epoch 49/150\n",
      "8/8 [==============================] - 0s 2ms/step - loss: 0.1334 - accuracy: 0.9489\n",
      "Epoch 50/150\n",
      "8/8 [==============================] - 0s 2ms/step - loss: 0.1297 - accuracy: 0.9532\n",
      "Epoch 51/150\n",
      "8/8 [==============================] - 0s 2ms/step - loss: 0.1251 - accuracy: 0.9532\n",
      "Epoch 52/150\n",
      "8/8 [==============================] - 0s 2ms/step - loss: 0.1225 - accuracy: 0.9489\n",
      "Epoch 53/150\n",
      "8/8 [==============================] - 0s 2ms/step - loss: 0.1195 - accuracy: 0.9489\n",
      "Epoch 54/150\n",
      "8/8 [==============================] - 0s 2ms/step - loss: 0.1166 - accuracy: 0.9532\n",
      "Epoch 55/150\n",
      "8/8 [==============================] - 0s 2ms/step - loss: 0.1135 - accuracy: 0.9532\n",
      "Epoch 56/150\n",
      "8/8 [==============================] - 0s 2ms/step - loss: 0.1106 - accuracy: 0.9532\n",
      "Epoch 57/150\n",
      "8/8 [==============================] - 0s 1ms/step - loss: 0.1079 - accuracy: 0.9617\n",
      "Epoch 58/150\n",
      "8/8 [==============================] - 0s 2ms/step - loss: 0.1061 - accuracy: 0.9617\n",
      "Epoch 59/150\n",
      "8/8 [==============================] - 0s 2ms/step - loss: 0.1032 - accuracy: 0.9660\n",
      "Epoch 60/150\n",
      "8/8 [==============================] - 0s 2ms/step - loss: 0.1009 - accuracy: 0.9660\n",
      "Epoch 61/150\n",
      "8/8 [==============================] - 0s 2ms/step - loss: 0.0988 - accuracy: 0.9745\n",
      "Epoch 62/150\n",
      "8/8 [==============================] - 0s 2ms/step - loss: 0.0972 - accuracy: 0.9745\n",
      "Epoch 63/150\n",
      "8/8 [==============================] - 0s 2ms/step - loss: 0.0940 - accuracy: 0.9745\n",
      "Epoch 64/150\n",
      "8/8 [==============================] - 0s 1ms/step - loss: 0.0925 - accuracy: 0.9745\n",
      "Epoch 65/150\n",
      "8/8 [==============================] - 0s 1ms/step - loss: 0.0904 - accuracy: 0.9745\n",
      "Epoch 66/150\n",
      "8/8 [==============================] - 0s 2ms/step - loss: 0.0888 - accuracy: 0.9745\n",
      "Epoch 67/150\n",
      "8/8 [==============================] - 0s 1ms/step - loss: 0.0866 - accuracy: 0.9745\n",
      "Epoch 68/150\n",
      "8/8 [==============================] - 0s 1ms/step - loss: 0.0843 - accuracy: 0.9787\n",
      "Epoch 69/150\n",
      "8/8 [==============================] - 0s 2ms/step - loss: 0.0832 - accuracy: 0.9787\n",
      "Epoch 70/150\n",
      "8/8 [==============================] - 0s 2ms/step - loss: 0.0810 - accuracy: 0.9787\n",
      "Epoch 71/150\n",
      "8/8 [==============================] - 0s 2ms/step - loss: 0.0794 - accuracy: 0.9787\n",
      "Epoch 72/150\n",
      "8/8 [==============================] - 0s 1ms/step - loss: 0.0779 - accuracy: 0.9787\n",
      "Epoch 73/150\n",
      "8/8 [==============================] - 0s 1ms/step - loss: 0.0762 - accuracy: 0.9787\n",
      "Epoch 74/150\n",
      "8/8 [==============================] - 0s 1ms/step - loss: 0.0748 - accuracy: 0.9787\n",
      "Epoch 75/150\n",
      "8/8 [==============================] - 0s 1ms/step - loss: 0.0734 - accuracy: 0.9787\n",
      "Epoch 76/150\n",
      "8/8 [==============================] - 0s 1ms/step - loss: 0.0721 - accuracy: 0.9787\n",
      "Epoch 77/150\n",
      "8/8 [==============================] - 0s 2ms/step - loss: 0.0707 - accuracy: 0.9787\n",
      "Epoch 78/150\n",
      "8/8 [==============================] - 0s 2ms/step - loss: 0.0703 - accuracy: 0.9787\n",
      "Epoch 79/150\n",
      "8/8 [==============================] - 0s 2ms/step - loss: 0.0686 - accuracy: 0.9787\n",
      "Epoch 80/150\n",
      "8/8 [==============================] - 0s 1ms/step - loss: 0.0675 - accuracy: 0.9787\n",
      "Epoch 81/150\n",
      "8/8 [==============================] - 0s 2ms/step - loss: 0.0662 - accuracy: 0.9787\n",
      "Epoch 82/150\n",
      "8/8 [==============================] - 0s 2ms/step - loss: 0.0652 - accuracy: 0.9787\n",
      "Epoch 83/150\n",
      "8/8 [==============================] - 0s 2ms/step - loss: 0.0638 - accuracy: 0.9830\n",
      "Epoch 84/150\n"
     ]
    },
    {
     "name": "stdout",
     "output_type": "stream",
     "text": [
      "8/8 [==============================] - 0s 2ms/step - loss: 0.0626 - accuracy: 0.9830\n",
      "Epoch 85/150\n",
      "8/8 [==============================] - 0s 2ms/step - loss: 0.0619 - accuracy: 0.9830\n",
      "Epoch 86/150\n",
      "8/8 [==============================] - 0s 2ms/step - loss: 0.0606 - accuracy: 0.9830\n",
      "Epoch 87/150\n",
      "8/8 [==============================] - 0s 2ms/step - loss: 0.0600 - accuracy: 0.9830\n",
      "Epoch 88/150\n",
      "8/8 [==============================] - 0s 1ms/step - loss: 0.0596 - accuracy: 0.9830\n",
      "Epoch 89/150\n",
      "8/8 [==============================] - 0s 2ms/step - loss: 0.0573 - accuracy: 0.9830\n",
      "Epoch 90/150\n",
      "8/8 [==============================] - 0s 2ms/step - loss: 0.0569 - accuracy: 0.9830\n",
      "Epoch 91/150\n",
      "8/8 [==============================] - 0s 2ms/step - loss: 0.0569 - accuracy: 0.9830\n",
      "Epoch 92/150\n",
      "8/8 [==============================] - 0s 2ms/step - loss: 0.0550 - accuracy: 0.9830\n",
      "Epoch 93/150\n",
      "8/8 [==============================] - 0s 2ms/step - loss: 0.0548 - accuracy: 0.9872\n",
      "Epoch 94/150\n",
      "8/8 [==============================] - 0s 1ms/step - loss: 0.0531 - accuracy: 0.9830\n",
      "Epoch 95/150\n",
      "8/8 [==============================] - 0s 1ms/step - loss: 0.0534 - accuracy: 0.9830\n",
      "Epoch 96/150\n",
      "8/8 [==============================] - 0s 1ms/step - loss: 0.0524 - accuracy: 0.9830\n",
      "Epoch 97/150\n",
      "8/8 [==============================] - 0s 2ms/step - loss: 0.0504 - accuracy: 0.9872\n",
      "Epoch 98/150\n",
      "8/8 [==============================] - 0s 2ms/step - loss: 0.0495 - accuracy: 0.9872\n",
      "Epoch 99/150\n",
      "8/8 [==============================] - 0s 2ms/step - loss: 0.0495 - accuracy: 0.9872\n",
      "Epoch 100/150\n",
      "8/8 [==============================] - 0s 1ms/step - loss: 0.0504 - accuracy: 0.9872\n",
      "Epoch 101/150\n",
      "8/8 [==============================] - 0s 2ms/step - loss: 0.0483 - accuracy: 0.9872\n",
      "Epoch 102/150\n",
      "8/8 [==============================] - 0s 2ms/step - loss: 0.0474 - accuracy: 0.9872\n",
      "Epoch 103/150\n",
      "8/8 [==============================] - 0s 2ms/step - loss: 0.0466 - accuracy: 0.9872\n",
      "Epoch 104/150\n",
      "8/8 [==============================] - 0s 2ms/step - loss: 0.0454 - accuracy: 0.9872\n",
      "Epoch 105/150\n",
      "8/8 [==============================] - 0s 2ms/step - loss: 0.0447 - accuracy: 0.9872\n",
      "Epoch 106/150\n",
      "8/8 [==============================] - 0s 2ms/step - loss: 0.0440 - accuracy: 0.9872\n",
      "Epoch 107/150\n",
      "8/8 [==============================] - 0s 2ms/step - loss: 0.0433 - accuracy: 0.9872\n",
      "Epoch 108/150\n",
      "8/8 [==============================] - 0s 2ms/step - loss: 0.0427 - accuracy: 0.9872\n",
      "Epoch 109/150\n",
      "8/8 [==============================] - 0s 2ms/step - loss: 0.0419 - accuracy: 0.9872\n",
      "Epoch 110/150\n",
      "8/8 [==============================] - 0s 2ms/step - loss: 0.0416 - accuracy: 0.9872\n",
      "Epoch 111/150\n",
      "8/8 [==============================] - 0s 2ms/step - loss: 0.0411 - accuracy: 0.9915\n",
      "Epoch 112/150\n",
      "8/8 [==============================] - 0s 2ms/step - loss: 0.0402 - accuracy: 0.9872\n",
      "Epoch 113/150\n",
      "8/8 [==============================] - 0s 2ms/step - loss: 0.0398 - accuracy: 0.9872\n",
      "Epoch 114/150\n",
      "8/8 [==============================] - 0s 2ms/step - loss: 0.0394 - accuracy: 0.9872\n",
      "Epoch 115/150\n",
      "8/8 [==============================] - 0s 2ms/step - loss: 0.0388 - accuracy: 0.9915\n",
      "Epoch 116/150\n",
      "8/8 [==============================] - 0s 2ms/step - loss: 0.0390 - accuracy: 0.9915\n",
      "Epoch 117/150\n",
      "8/8 [==============================] - 0s 2ms/step - loss: 0.0376 - accuracy: 0.9957\n",
      "Epoch 118/150\n",
      "8/8 [==============================] - 0s 2ms/step - loss: 0.0381 - accuracy: 0.9915\n",
      "Epoch 119/150\n",
      "8/8 [==============================] - 0s 2ms/step - loss: 0.0370 - accuracy: 0.9957\n",
      "Epoch 120/150\n",
      "8/8 [==============================] - 0s 2ms/step - loss: 0.0363 - accuracy: 0.9957\n",
      "Epoch 121/150\n",
      "8/8 [==============================] - 0s 2ms/step - loss: 0.0355 - accuracy: 0.9957\n",
      "Epoch 122/150\n",
      "8/8 [==============================] - 0s 2ms/step - loss: 0.0350 - accuracy: 0.9915\n",
      "Epoch 123/150\n",
      "8/8 [==============================] - 0s 1ms/step - loss: 0.0379 - accuracy: 0.9915\n",
      "Epoch 124/150\n",
      "8/8 [==============================] - 0s 2ms/step - loss: 0.0350 - accuracy: 0.9957\n",
      "Epoch 125/150\n",
      "8/8 [==============================] - 0s 2ms/step - loss: 0.0354 - accuracy: 0.9957\n",
      "Epoch 126/150\n",
      "8/8 [==============================] - 0s 2ms/step - loss: 0.0357 - accuracy: 0.9915\n",
      "Epoch 127/150\n",
      "8/8 [==============================] - 0s 2ms/step - loss: 0.0321 - accuracy: 0.9957\n",
      "Epoch 128/150\n",
      "8/8 [==============================] - 0s 2ms/step - loss: 0.0330 - accuracy: 0.9957\n",
      "Epoch 129/150\n",
      "8/8 [==============================] - 0s 2ms/step - loss: 0.0323 - accuracy: 0.9957\n",
      "Epoch 130/150\n",
      "8/8 [==============================] - 0s 2ms/step - loss: 0.0313 - accuracy: 0.9957\n",
      "Epoch 131/150\n",
      "8/8 [==============================] - 0s 2ms/step - loss: 0.0309 - accuracy: 0.9957\n",
      "Epoch 132/150\n",
      "8/8 [==============================] - 0s 2ms/step - loss: 0.0304 - accuracy: 0.9957\n",
      "Epoch 133/150\n",
      "8/8 [==============================] - 0s 2ms/step - loss: 0.0299 - accuracy: 0.9957\n",
      "Epoch 134/150\n",
      "8/8 [==============================] - 0s 2ms/step - loss: 0.0301 - accuracy: 0.9957\n",
      "Epoch 135/150\n",
      "8/8 [==============================] - 0s 2ms/step - loss: 0.0307 - accuracy: 0.9957\n",
      "Epoch 136/150\n",
      "8/8 [==============================] - 0s 2ms/step - loss: 0.0285 - accuracy: 0.9957\n",
      "Epoch 137/150\n",
      "8/8 [==============================] - 0s 2ms/step - loss: 0.0297 - accuracy: 0.9957\n",
      "Epoch 138/150\n",
      "8/8 [==============================] - 0s 2ms/step - loss: 0.0293 - accuracy: 0.9957\n",
      "Epoch 139/150\n",
      "8/8 [==============================] - 0s 2ms/step - loss: 0.0281 - accuracy: 0.9957\n",
      "Epoch 140/150\n",
      "8/8 [==============================] - 0s 2ms/step - loss: 0.0279 - accuracy: 0.9957\n",
      "Epoch 141/150\n",
      "8/8 [==============================] - 0s 2ms/step - loss: 0.0274 - accuracy: 0.9957\n",
      "Epoch 142/150\n",
      "8/8 [==============================] - 0s 2ms/step - loss: 0.0261 - accuracy: 0.9957\n",
      "Epoch 143/150\n",
      "8/8 [==============================] - 0s 2ms/step - loss: 0.0265 - accuracy: 0.9957\n",
      "Epoch 144/150\n",
      "8/8 [==============================] - 0s 2ms/step - loss: 0.0263 - accuracy: 0.9957\n",
      "Epoch 145/150\n",
      "8/8 [==============================] - 0s 2ms/step - loss: 0.0266 - accuracy: 0.9957\n",
      "Epoch 146/150\n",
      "8/8 [==============================] - 0s 2ms/step - loss: 0.0257 - accuracy: 0.9957\n",
      "Epoch 147/150\n",
      "8/8 [==============================] - 0s 2ms/step - loss: 0.0254 - accuracy: 0.9957\n",
      "Epoch 148/150\n",
      "8/8 [==============================] - 0s 2ms/step - loss: 0.0250 - accuracy: 0.9957\n",
      "Epoch 149/150\n",
      "8/8 [==============================] - 0s 1ms/step - loss: 0.0248 - accuracy: 0.9957\n",
      "Epoch 150/150\n",
      "8/8 [==============================] - 0s 2ms/step - loss: 0.0246 - accuracy: 0.9957\n"
     ]
    }
   ],
   "source": [
    "history2 = model.fit(X_train, y_train, epochs=150, batch_size=32, verbose=1)"
   ]
  },
  {
   "cell_type": "code",
   "execution_count": 63,
   "metadata": {},
   "outputs": [
    {
     "name": "stdout",
     "output_type": "stream",
     "text": [
      "4/4 [==============================] - 0s 2ms/step - loss: 0.3759 - accuracy: 0.9224\n",
      "Test Accuracy: 0.922\n"
     ]
    }
   ],
   "source": [
    "loss, acc = model.evaluate(X_test, y_test, verbose=1)\n",
    "print('Test Accuracy: %.3f' % acc)"
   ]
  },
  {
   "cell_type": "code",
   "execution_count": null,
   "metadata": {},
   "outputs": [],
   "source": []
  },
  {
   "cell_type": "markdown",
   "metadata": {},
   "source": [
    "### Important: Document in your lab logbook the accuracy of the improved model. Do not include any code or explanations in your lab logbook. Simply record the accuracy. For example, if the obtained accuracy is 0.98, then enter \"0.98\" in your lab logbook.\n",
    "### In addition to the accuracy, also document the output of the neural network as provided in Task 2."
   ]
  },
  {
   "cell_type": "markdown",
   "metadata": {
    "id": "ZFNL8fY2rd41"
   },
   "source": [
    "Next, we have provided the code to predict on an unknown value.\n",
    "We will cover these concepts later in the class. For now, just run the code to see the prediction."
   ]
  },
  {
   "cell_type": "code",
   "execution_count": 58,
   "metadata": {},
   "outputs": [
    {
     "name": "stdout",
     "output_type": "stream",
     "text": [
      "1/1 [==============================] - 0s 44ms/step\n",
      "Predicted: 0.999\n"
     ]
    }
   ],
   "source": [
    "row = [1,0,0.99539,-0.05889,0.85243,0.02306,\n",
    "       0.83398,-0.37708,1,0.03760,0.85243,-0.17755,\n",
    "       0.59755,-0.44945,0.60536,-0.38223,0.84356,\n",
    "       -0.38542,0.58212,-0.32192,0.56971,-0.29674,0.36946,\n",
    "       -0.47357,0.56811,-0.51171,0.41078,-0.46168,0.21266,\n",
    "       -0.34090,0.42267,-0.54487,0.18641,-0.45300]\n",
    "yhat = model.predict([row])\n",
    "print('Predicted: %.3f' % yhat)"
   ]
  },
  {
   "cell_type": "code",
   "execution_count": null,
   "metadata": {},
   "outputs": [],
   "source": []
  },
  {
   "cell_type": "markdown",
   "metadata": {},
   "source": [
    "## One more model"
   ]
  },
  {
   "cell_type": "code",
   "execution_count": 25,
   "metadata": {},
   "outputs": [],
   "source": [
    "# More info regarding \n",
    "# tensorflow.keras.initializers.he_normal()\n",
    "\n",
    "#  https://keras.io/api/layers/initializers/\n",
    "#  https://www.tensorflow.org/api_docs/python/tf/keras/initializers/HeNormal"
   ]
  },
  {
   "cell_type": "code",
   "execution_count": 59,
   "metadata": {},
   "outputs": [],
   "source": [
    "model_2 = Sequential()\n",
    "model_2.add(Dense(17, activation='relu', input_shape=(n_features,), kernel_initializer=\"he_normal\"))\n",
    "model_2.add(Dense(10, activation='relu', kernel_initializer=\"he_normal\"))\n",
    "model_2.add(Dense(8, activation='relu', kernel_initializer=\"he_normal\"))\n",
    "model_2.add(Dense(1, activation='sigmoid'))"
   ]
  },
  {
   "cell_type": "code",
   "execution_count": 60,
   "metadata": {},
   "outputs": [
    {
     "name": "stdout",
     "output_type": "stream",
     "text": [
      "Model: \"sequential_6\"\n",
      "_________________________________________________________________\n",
      " Layer (type)                Output Shape              Param #   \n",
      "=================================================================\n",
      " dense_24 (Dense)            (None, 17)                595       \n",
      "                                                                 \n",
      " dense_25 (Dense)            (None, 10)                180       \n",
      "                                                                 \n",
      " dense_26 (Dense)            (None, 8)                 88        \n",
      "                                                                 \n",
      " dense_27 (Dense)            (None, 1)                 9         \n",
      "                                                                 \n",
      "=================================================================\n",
      "Total params: 872 (3.41 KB)\n",
      "Trainable params: 872 (3.41 KB)\n",
      "Non-trainable params: 0 (0.00 Byte)\n",
      "_________________________________________________________________\n",
      "None\n"
     ]
    }
   ],
   "source": [
    "print(model_2.summary())"
   ]
  },
  {
   "cell_type": "code",
   "execution_count": 61,
   "metadata": {},
   "outputs": [],
   "source": [
    "model_2.compile(optimizer='adam', loss='binary_crossentropy', metrics=['accuracy'])"
   ]
  },
  {
   "cell_type": "code",
   "execution_count": 62,
   "metadata": {},
   "outputs": [
    {
     "name": "stdout",
     "output_type": "stream",
     "text": [
      "Epoch 1/150\n",
      "8/8 [==============================] - 1s 2ms/step - loss: 0.8024 - accuracy: 0.3404\n",
      "Epoch 2/150\n",
      "8/8 [==============================] - 0s 2ms/step - loss: 0.7188 - accuracy: 0.5702\n",
      "Epoch 3/150\n",
      "8/8 [==============================] - 0s 2ms/step - loss: 0.6672 - accuracy: 0.6553\n",
      "Epoch 4/150\n",
      "8/8 [==============================] - 0s 2ms/step - loss: 0.6381 - accuracy: 0.6851\n",
      "Epoch 5/150\n",
      "8/8 [==============================] - 0s 2ms/step - loss: 0.6111 - accuracy: 0.6936\n",
      "Epoch 6/150\n",
      "8/8 [==============================] - 0s 2ms/step - loss: 0.5894 - accuracy: 0.7106\n",
      "Epoch 7/150\n",
      "8/8 [==============================] - 0s 2ms/step - loss: 0.5680 - accuracy: 0.7149\n",
      "Epoch 8/150\n",
      "8/8 [==============================] - 0s 2ms/step - loss: 0.5496 - accuracy: 0.7191\n",
      "Epoch 9/150\n",
      "8/8 [==============================] - 0s 2ms/step - loss: 0.5330 - accuracy: 0.7362\n",
      "Epoch 10/150\n",
      "8/8 [==============================] - 0s 2ms/step - loss: 0.5151 - accuracy: 0.7447\n",
      "Epoch 11/150\n",
      "8/8 [==============================] - 0s 2ms/step - loss: 0.4972 - accuracy: 0.7574\n",
      "Epoch 12/150\n",
      "8/8 [==============================] - 0s 2ms/step - loss: 0.4807 - accuracy: 0.7872\n",
      "Epoch 13/150\n",
      "8/8 [==============================] - 0s 2ms/step - loss: 0.4627 - accuracy: 0.8170\n",
      "Epoch 14/150\n",
      "8/8 [==============================] - 0s 2ms/step - loss: 0.4457 - accuracy: 0.8340\n",
      "Epoch 15/150\n",
      "8/8 [==============================] - 0s 2ms/step - loss: 0.4262 - accuracy: 0.8511\n",
      "Epoch 16/150\n",
      "8/8 [==============================] - 0s 2ms/step - loss: 0.4063 - accuracy: 0.8596\n",
      "Epoch 17/150\n",
      "8/8 [==============================] - 0s 2ms/step - loss: 0.3861 - accuracy: 0.8723\n",
      "Epoch 18/150\n",
      "8/8 [==============================] - 0s 2ms/step - loss: 0.3705 - accuracy: 0.8894\n",
      "Epoch 19/150\n",
      "8/8 [==============================] - 0s 2ms/step - loss: 0.3519 - accuracy: 0.8894\n",
      "Epoch 20/150\n",
      "8/8 [==============================] - 0s 2ms/step - loss: 0.3356 - accuracy: 0.8936\n",
      "Epoch 21/150\n",
      "8/8 [==============================] - 0s 2ms/step - loss: 0.3188 - accuracy: 0.8979\n",
      "Epoch 22/150\n",
      "8/8 [==============================] - 0s 2ms/step - loss: 0.3053 - accuracy: 0.9021\n",
      "Epoch 23/150\n",
      "8/8 [==============================] - 0s 2ms/step - loss: 0.2910 - accuracy: 0.9021\n",
      "Epoch 24/150\n",
      "8/8 [==============================] - 0s 2ms/step - loss: 0.2767 - accuracy: 0.9064\n",
      "Epoch 25/150\n",
      "8/8 [==============================] - 0s 2ms/step - loss: 0.2628 - accuracy: 0.9191\n",
      "Epoch 26/150\n",
      "8/8 [==============================] - 0s 1ms/step - loss: 0.2513 - accuracy: 0.9191\n",
      "Epoch 27/150\n",
      "8/8 [==============================] - 0s 1ms/step - loss: 0.2384 - accuracy: 0.9277\n",
      "Epoch 28/150\n",
      "8/8 [==============================] - 0s 2ms/step - loss: 0.2263 - accuracy: 0.9277\n",
      "Epoch 29/150\n",
      "8/8 [==============================] - 0s 2ms/step - loss: 0.2157 - accuracy: 0.9277\n",
      "Epoch 30/150\n",
      "8/8 [==============================] - 0s 2ms/step - loss: 0.2064 - accuracy: 0.9404\n",
      "Epoch 31/150\n",
      "8/8 [==============================] - 0s 2ms/step - loss: 0.1957 - accuracy: 0.9489\n",
      "Epoch 32/150\n",
      "8/8 [==============================] - 0s 2ms/step - loss: 0.1858 - accuracy: 0.9532\n",
      "Epoch 33/150\n",
      "8/8 [==============================] - 0s 2ms/step - loss: 0.1766 - accuracy: 0.9532\n",
      "Epoch 34/150\n",
      "8/8 [==============================] - 0s 2ms/step - loss: 0.1679 - accuracy: 0.9532\n",
      "Epoch 35/150\n",
      "8/8 [==============================] - 0s 2ms/step - loss: 0.1582 - accuracy: 0.9532\n",
      "Epoch 36/150\n",
      "8/8 [==============================] - 0s 2ms/step - loss: 0.1512 - accuracy: 0.9574\n",
      "Epoch 37/150\n",
      "8/8 [==============================] - 0s 2ms/step - loss: 0.1434 - accuracy: 0.9574\n",
      "Epoch 38/150\n",
      "8/8 [==============================] - 0s 2ms/step - loss: 0.1378 - accuracy: 0.9617\n",
      "Epoch 39/150\n",
      "8/8 [==============================] - 0s 2ms/step - loss: 0.1308 - accuracy: 0.9702\n",
      "Epoch 40/150\n",
      "8/8 [==============================] - 0s 2ms/step - loss: 0.1252 - accuracy: 0.9702\n",
      "Epoch 41/150\n",
      "8/8 [==============================] - 0s 2ms/step - loss: 0.1195 - accuracy: 0.9702\n",
      "Epoch 42/150\n",
      "8/8 [==============================] - 0s 2ms/step - loss: 0.1132 - accuracy: 0.9702\n",
      "Epoch 43/150\n",
      "8/8 [==============================] - 0s 2ms/step - loss: 0.1082 - accuracy: 0.9702\n",
      "Epoch 44/150\n",
      "8/8 [==============================] - 0s 2ms/step - loss: 0.1029 - accuracy: 0.9745\n",
      "Epoch 45/150\n",
      "8/8 [==============================] - 0s 2ms/step - loss: 0.0973 - accuracy: 0.9787\n",
      "Epoch 46/150\n",
      "8/8 [==============================] - 0s 2ms/step - loss: 0.0944 - accuracy: 0.9787\n",
      "Epoch 47/150\n",
      "8/8 [==============================] - 0s 2ms/step - loss: 0.0905 - accuracy: 0.9745\n",
      "Epoch 48/150\n",
      "8/8 [==============================] - 0s 2ms/step - loss: 0.0822 - accuracy: 0.9787\n",
      "Epoch 49/150\n",
      "8/8 [==============================] - 0s 2ms/step - loss: 0.0866 - accuracy: 0.9830\n",
      "Epoch 50/150\n",
      "8/8 [==============================] - 0s 2ms/step - loss: 0.0817 - accuracy: 0.9787\n",
      "Epoch 51/150\n",
      "8/8 [==============================] - 0s 2ms/step - loss: 0.0770 - accuracy: 0.9787\n",
      "Epoch 52/150\n",
      "8/8 [==============================] - 0s 1ms/step - loss: 0.0715 - accuracy: 0.9830\n",
      "Epoch 53/150\n",
      "8/8 [==============================] - 0s 2ms/step - loss: 0.0679 - accuracy: 0.9872\n",
      "Epoch 54/150\n",
      "8/8 [==============================] - 0s 2ms/step - loss: 0.0656 - accuracy: 0.9872\n",
      "Epoch 55/150\n",
      "8/8 [==============================] - 0s 2ms/step - loss: 0.0637 - accuracy: 0.9872\n",
      "Epoch 56/150\n",
      "8/8 [==============================] - 0s 2ms/step - loss: 0.0626 - accuracy: 0.9872\n",
      "Epoch 57/150\n",
      "8/8 [==============================] - 0s 1ms/step - loss: 0.0608 - accuracy: 0.9872\n",
      "Epoch 58/150\n",
      "8/8 [==============================] - 0s 2ms/step - loss: 0.0572 - accuracy: 0.9872\n",
      "Epoch 59/150\n",
      "8/8 [==============================] - 0s 2ms/step - loss: 0.0591 - accuracy: 0.9872\n",
      "Epoch 60/150\n",
      "8/8 [==============================] - 0s 2ms/step - loss: 0.0564 - accuracy: 0.9872\n",
      "Epoch 61/150\n",
      "8/8 [==============================] - 0s 1ms/step - loss: 0.0542 - accuracy: 0.9872\n",
      "Epoch 62/150\n",
      "8/8 [==============================] - 0s 2ms/step - loss: 0.0535 - accuracy: 0.9872\n",
      "Epoch 63/150\n",
      "8/8 [==============================] - 0s 2ms/step - loss: 0.0521 - accuracy: 0.9872\n",
      "Epoch 64/150\n",
      "8/8 [==============================] - 0s 2ms/step - loss: 0.0509 - accuracy: 0.9872\n",
      "Epoch 65/150\n",
      "8/8 [==============================] - 0s 2ms/step - loss: 0.0499 - accuracy: 0.9872\n",
      "Epoch 66/150\n",
      "8/8 [==============================] - 0s 2ms/step - loss: 0.0488 - accuracy: 0.9872\n",
      "Epoch 67/150\n",
      "8/8 [==============================] - 0s 2ms/step - loss: 0.0509 - accuracy: 0.9872\n",
      "Epoch 68/150\n",
      "8/8 [==============================] - 0s 1ms/step - loss: 0.0481 - accuracy: 0.9872\n",
      "Epoch 69/150\n",
      "8/8 [==============================] - 0s 1ms/step - loss: 0.0459 - accuracy: 0.9872\n",
      "Epoch 70/150\n",
      "8/8 [==============================] - 0s 2ms/step - loss: 0.0454 - accuracy: 0.9915\n",
      "Epoch 71/150\n",
      "8/8 [==============================] - 0s 2ms/step - loss: 0.0444 - accuracy: 0.9915\n",
      "Epoch 72/150\n",
      "8/8 [==============================] - 0s 1ms/step - loss: 0.0435 - accuracy: 0.9915\n",
      "Epoch 73/150\n",
      "8/8 [==============================] - 0s 2ms/step - loss: 0.0429 - accuracy: 0.9915\n",
      "Epoch 74/150\n",
      "8/8 [==============================] - 0s 2ms/step - loss: 0.0419 - accuracy: 0.9915\n",
      "Epoch 75/150\n",
      "8/8 [==============================] - 0s 1ms/step - loss: 0.0413 - accuracy: 0.9915\n",
      "Epoch 76/150\n",
      "8/8 [==============================] - 0s 2ms/step - loss: 0.0405 - accuracy: 0.9915\n",
      "Epoch 77/150\n",
      "8/8 [==============================] - 0s 2ms/step - loss: 0.0398 - accuracy: 0.9915\n",
      "Epoch 78/150\n",
      "8/8 [==============================] - 0s 2ms/step - loss: 0.0398 - accuracy: 0.9915\n",
      "Epoch 79/150\n",
      "8/8 [==============================] - 0s 2ms/step - loss: 0.0389 - accuracy: 0.9915\n",
      "Epoch 80/150\n",
      "8/8 [==============================] - 0s 2ms/step - loss: 0.0382 - accuracy: 0.9915\n",
      "Epoch 81/150\n",
      "8/8 [==============================] - 0s 2ms/step - loss: 0.0383 - accuracy: 0.9915\n",
      "Epoch 82/150\n",
      "8/8 [==============================] - 0s 2ms/step - loss: 0.0374 - accuracy: 0.9915\n",
      "Epoch 83/150\n",
      "8/8 [==============================] - 0s 5ms/step - loss: 0.0365 - accuracy: 0.9915\n",
      "Epoch 84/150\n"
     ]
    },
    {
     "name": "stdout",
     "output_type": "stream",
     "text": [
      "8/8 [==============================] - 0s 2ms/step - loss: 0.0359 - accuracy: 0.9915\n",
      "Epoch 85/150\n",
      "8/8 [==============================] - 0s 2ms/step - loss: 0.0360 - accuracy: 0.9915\n",
      "Epoch 86/150\n",
      "8/8 [==============================] - 0s 2ms/step - loss: 0.0350 - accuracy: 0.9915\n",
      "Epoch 87/150\n",
      "8/8 [==============================] - 0s 1ms/step - loss: 0.0344 - accuracy: 0.9915\n",
      "Epoch 88/150\n",
      "8/8 [==============================] - 0s 2ms/step - loss: 0.0339 - accuracy: 0.9915\n",
      "Epoch 89/150\n",
      "8/8 [==============================] - 0s 2ms/step - loss: 0.0338 - accuracy: 0.9915\n",
      "Epoch 90/150\n",
      "8/8 [==============================] - 0s 1ms/step - loss: 0.0319 - accuracy: 0.9915\n",
      "Epoch 91/150\n",
      "8/8 [==============================] - 0s 2ms/step - loss: 0.0341 - accuracy: 0.9915\n",
      "Epoch 92/150\n",
      "8/8 [==============================] - 0s 2ms/step - loss: 0.0346 - accuracy: 0.9957\n",
      "Epoch 93/150\n",
      "8/8 [==============================] - 0s 2ms/step - loss: 0.0323 - accuracy: 0.9915\n",
      "Epoch 94/150\n",
      "8/8 [==============================] - 0s 1ms/step - loss: 0.0315 - accuracy: 0.9915\n",
      "Epoch 95/150\n",
      "8/8 [==============================] - 0s 1ms/step - loss: 0.0310 - accuracy: 0.9915\n",
      "Epoch 96/150\n",
      "8/8 [==============================] - 0s 2ms/step - loss: 0.0301 - accuracy: 0.9915\n",
      "Epoch 97/150\n",
      "8/8 [==============================] - 0s 2ms/step - loss: 0.0295 - accuracy: 0.9957\n",
      "Epoch 98/150\n",
      "8/8 [==============================] - 0s 2ms/step - loss: 0.0293 - accuracy: 0.9957\n",
      "Epoch 99/150\n",
      "8/8 [==============================] - 0s 2ms/step - loss: 0.0288 - accuracy: 0.9957\n",
      "Epoch 100/150\n",
      "8/8 [==============================] - 0s 1ms/step - loss: 0.0292 - accuracy: 0.9957\n",
      "Epoch 101/150\n",
      "8/8 [==============================] - 0s 2ms/step - loss: 0.0280 - accuracy: 0.9957\n",
      "Epoch 102/150\n",
      "8/8 [==============================] - 0s 1ms/step - loss: 0.0285 - accuracy: 0.9957\n",
      "Epoch 103/150\n",
      "8/8 [==============================] - 0s 2ms/step - loss: 0.0275 - accuracy: 0.9957\n",
      "Epoch 104/150\n",
      "8/8 [==============================] - 0s 2ms/step - loss: 0.0270 - accuracy: 0.9957\n",
      "Epoch 105/150\n",
      "8/8 [==============================] - 0s 2ms/step - loss: 0.0267 - accuracy: 0.9957\n",
      "Epoch 106/150\n",
      "8/8 [==============================] - 0s 2ms/step - loss: 0.0264 - accuracy: 0.9957\n",
      "Epoch 107/150\n",
      "8/8 [==============================] - 0s 2ms/step - loss: 0.0257 - accuracy: 0.9957\n",
      "Epoch 108/150\n",
      "8/8 [==============================] - 0s 2ms/step - loss: 0.0262 - accuracy: 0.9957\n",
      "Epoch 109/150\n",
      "8/8 [==============================] - 0s 2ms/step - loss: 0.0255 - accuracy: 0.9957\n",
      "Epoch 110/150\n",
      "8/8 [==============================] - 0s 2ms/step - loss: 0.0250 - accuracy: 0.9957\n",
      "Epoch 111/150\n",
      "8/8 [==============================] - 0s 1ms/step - loss: 0.0251 - accuracy: 0.9957\n",
      "Epoch 112/150\n",
      "8/8 [==============================] - 0s 2ms/step - loss: 0.0260 - accuracy: 0.9957\n",
      "Epoch 113/150\n",
      "8/8 [==============================] - 0s 2ms/step - loss: 0.0248 - accuracy: 0.9957\n",
      "Epoch 114/150\n",
      "8/8 [==============================] - 0s 2ms/step - loss: 0.0239 - accuracy: 0.9957\n",
      "Epoch 115/150\n",
      "8/8 [==============================] - 0s 2ms/step - loss: 0.0239 - accuracy: 0.9957\n",
      "Epoch 116/150\n",
      "8/8 [==============================] - 0s 2ms/step - loss: 0.0230 - accuracy: 0.9957\n",
      "Epoch 117/150\n",
      "8/8 [==============================] - 0s 2ms/step - loss: 0.0244 - accuracy: 0.9957\n",
      "Epoch 118/150\n",
      "8/8 [==============================] - 0s 1ms/step - loss: 0.0242 - accuracy: 0.9957\n",
      "Epoch 119/150\n",
      "8/8 [==============================] - 0s 2ms/step - loss: 0.0229 - accuracy: 0.9957\n",
      "Epoch 120/150\n",
      "8/8 [==============================] - 0s 2ms/step - loss: 0.0230 - accuracy: 0.9957\n",
      "Epoch 121/150\n",
      "8/8 [==============================] - 0s 2ms/step - loss: 0.0225 - accuracy: 0.9957\n",
      "Epoch 122/150\n",
      "8/8 [==============================] - 0s 1ms/step - loss: 0.0220 - accuracy: 0.9957\n",
      "Epoch 123/150\n",
      "8/8 [==============================] - 0s 2ms/step - loss: 0.0216 - accuracy: 0.9957\n",
      "Epoch 124/150\n",
      "8/8 [==============================] - 0s 2ms/step - loss: 0.0214 - accuracy: 0.9957\n",
      "Epoch 125/150\n",
      "8/8 [==============================] - 0s 2ms/step - loss: 0.0211 - accuracy: 0.9957\n",
      "Epoch 126/150\n",
      "8/8 [==============================] - 0s 2ms/step - loss: 0.0211 - accuracy: 0.9957\n",
      "Epoch 127/150\n",
      "8/8 [==============================] - 0s 2ms/step - loss: 0.0210 - accuracy: 0.9957\n",
      "Epoch 128/150\n",
      "8/8 [==============================] - 0s 4ms/step - loss: 0.0204 - accuracy: 0.9957\n",
      "Epoch 129/150\n",
      "8/8 [==============================] - 0s 2ms/step - loss: 0.0202 - accuracy: 0.9957\n",
      "Epoch 130/150\n",
      "8/8 [==============================] - 0s 2ms/step - loss: 0.0200 - accuracy: 0.9957\n",
      "Epoch 131/150\n",
      "8/8 [==============================] - 0s 2ms/step - loss: 0.0199 - accuracy: 0.9957\n",
      "Epoch 132/150\n",
      "8/8 [==============================] - 0s 2ms/step - loss: 0.0196 - accuracy: 0.9957\n",
      "Epoch 133/150\n",
      "8/8 [==============================] - 0s 2ms/step - loss: 0.0197 - accuracy: 0.9957\n",
      "Epoch 134/150\n",
      "8/8 [==============================] - 0s 2ms/step - loss: 0.0192 - accuracy: 0.9957\n",
      "Epoch 135/150\n",
      "8/8 [==============================] - 0s 2ms/step - loss: 0.0188 - accuracy: 0.9957\n",
      "Epoch 136/150\n",
      "8/8 [==============================] - 0s 2ms/step - loss: 0.0188 - accuracy: 0.9957\n",
      "Epoch 137/150\n",
      "8/8 [==============================] - 0s 2ms/step - loss: 0.0188 - accuracy: 0.9957\n",
      "Epoch 138/150\n",
      "8/8 [==============================] - 0s 2ms/step - loss: 0.0190 - accuracy: 0.9957\n",
      "Epoch 139/150\n",
      "8/8 [==============================] - 0s 2ms/step - loss: 0.0178 - accuracy: 0.9957\n",
      "Epoch 140/150\n",
      "8/8 [==============================] - 0s 2ms/step - loss: 0.0177 - accuracy: 0.9957\n",
      "Epoch 141/150\n",
      "8/8 [==============================] - 0s 2ms/step - loss: 0.0179 - accuracy: 0.9957\n",
      "Epoch 142/150\n",
      "8/8 [==============================] - 0s 2ms/step - loss: 0.0175 - accuracy: 0.9957\n",
      "Epoch 143/150\n",
      "8/8 [==============================] - 0s 2ms/step - loss: 0.0184 - accuracy: 0.9957\n",
      "Epoch 144/150\n",
      "8/8 [==============================] - 0s 2ms/step - loss: 0.0180 - accuracy: 0.9957\n",
      "Epoch 145/150\n",
      "8/8 [==============================] - 0s 2ms/step - loss: 0.0169 - accuracy: 0.9957\n",
      "Epoch 146/150\n",
      "8/8 [==============================] - 0s 2ms/step - loss: 0.0170 - accuracy: 0.9957\n",
      "Epoch 147/150\n",
      "8/8 [==============================] - 0s 2ms/step - loss: 0.0168 - accuracy: 0.9957\n",
      "Epoch 148/150\n",
      "8/8 [==============================] - 0s 2ms/step - loss: 0.0171 - accuracy: 0.9957\n",
      "Epoch 149/150\n",
      "8/8 [==============================] - 0s 2ms/step - loss: 0.0163 - accuracy: 0.9957\n",
      "Epoch 150/150\n",
      "8/8 [==============================] - 0s 2ms/step - loss: 0.0168 - accuracy: 0.9957\n"
     ]
    }
   ],
   "source": [
    "history_3 = model_2.fit(X_train, y_train, epochs=150, batch_size=32, verbose=1)"
   ]
  },
  {
   "cell_type": "code",
   "execution_count": 64,
   "metadata": {},
   "outputs": [
    {
     "name": "stdout",
     "output_type": "stream",
     "text": [
      "4/4 [==============================] - 0s 2ms/step - loss: 0.3742 - accuracy: 0.9138\n",
      "Test Accuracy: 0.914\n"
     ]
    }
   ],
   "source": [
    "loss, acc = model_2.evaluate(X_test, y_test, verbose=1)\n",
    "print('Test Accuracy: %.3f' % acc)"
   ]
  },
  {
   "cell_type": "code",
   "execution_count": 65,
   "metadata": {},
   "outputs": [
    {
     "data": {
      "image/png": "[encoded data removed]",
      "text/plain": [
       "<Figure size 1500x700 with 1 Axes>"
      ]
     },
     "metadata": {},
     "output_type": "display_data"
    }
   ],
   "source": [
    "history_dict = history_3.history\n",
    "Accuracy = history_dict['accuracy']\n",
    "plt.figure(num=1, figsize=(15,7))\n",
    "plt.plot(Accuracy, 'bo', label='Training accuracy')\n",
    "plt.xlabel('Epochs')\n",
    "plt.ylabel('Accuracy')\n",
    "plt.legend()\n",
    "plt.show()"
   ]
  },
  {
   "cell_type": "code",
   "execution_count": 66,
   "metadata": {
    "colab": {
     "base_uri": "https://localhost:8080/"
    },
    "id": "kXV7gQRAP31u",
    "outputId": "925b9c37-d242-48a0-ed99-a70f7652b5fd"
   },
   "outputs": [
    {
     "name": "stdout",
     "output_type": "stream",
     "text": [
      "1/1 [==============================] - 0s 70ms/step\n",
      "Predicted: 1.000\n"
     ]
    }
   ],
   "source": [
    "row = [1,0,0.99539,-0.05889,0.85243,0.02306,\n",
    "       0.83398,-0.37708,1,0.03760,0.85243,-0.17755,\n",
    "       0.59755,-0.44945,0.60536,-0.38223,0.84356,\n",
    "       -0.38542,0.58212,-0.32192,0.56971,-0.29674,0.36946,\n",
    "       -0.47357,0.56811,-0.51171,0.41078,-0.46168,0.21266,\n",
    "       -0.34090,0.42267,-0.54487,0.18641,-0.45300]\n",
    "yhat = model_2.predict([row])\n",
    "print('Predicted: %.3f' % yhat)"
   ]
  },
  {
   "cell_type": "code",
   "execution_count": null,
   "metadata": {},
   "outputs": [],
   "source": [
    "# 100 % - enchanting result!"
   ]
  },
  {
   "cell_type": "code",
   "execution_count": null,
   "metadata": {},
   "outputs": [],
   "source": []
  },
  {
   "cell_type": "markdown",
   "metadata": {},
   "source": [
    "### Try out the same model with Keras Functional models!\n",
    "Refer to [Keras](https://keras.io/) for more details and tutorials for the same."
   ]
  },
  {
   "cell_type": "markdown",
   "metadata": {},
   "source": [
    "### Define the layers & create the model object and input & output!"
   ]
  },
  {
   "cell_type": "markdown",
   "metadata": {},
   "source": [
    "### https://keras.io/guides/functional_api/\n"
   ]
  },
  {
   "cell_type": "markdown",
   "metadata": {},
   "source": [
    "#### The Keras Functional API is a way to create complex models, such as those with multiple outputs, models with shared layers, or acyclic graphs."
   ]
  },
  {
   "cell_type": "markdown",
   "metadata": {},
   "source": [
    "#### An example of a model with multiple inputs and multiple outputs:"
   ]
  },
  {
   "attachments": {
    "image.png": {
     "image/png": "[encoded data removed]"
    }
   },
   "cell_type": "markdown",
   "metadata": {},
   "source": [
    "![image.png](attachment:image.png)"
   ]
  },
  {
   "cell_type": "code",
   "execution_count": 67,
   "metadata": {},
   "outputs": [],
   "source": [
    "from tensorflow.keras import Model\n",
    "from tensorflow.keras import Input\n",
    "from tensorflow.keras.layers import Dense\n"
   ]
  },
  {
   "cell_type": "code",
   "execution_count": 68,
   "metadata": {},
   "outputs": [
    {
     "data": {
      "text/plain": [
       "<KerasTensor: shape=(None, 34) dtype=float32 (created by layer 'input_1')>"
      ]
     },
     "execution_count": 68,
     "metadata": {},
     "output_type": "execute_result"
    }
   ],
   "source": [
    "# define the layers\n",
    "\n",
    "x_in = Input(shape=(n_features,))\n",
    "\n",
    "x_in"
   ]
  },
  {
   "cell_type": "code",
   "execution_count": 69,
   "metadata": {},
   "outputs": [],
   "source": [
    "x_1 = Dense(10, activation='relu')(x_in)\n",
    "x_2 = Dense(8, activation='relu')(x_1)\n",
    "x_out = Dense(1, activation='sigmoid')(x_2)"
   ]
  },
  {
   "cell_type": "code",
   "execution_count": 70,
   "metadata": {},
   "outputs": [],
   "source": [
    "# define model\n",
    "\n",
    "model_3 = Model(inputs=x_in, outputs=x_out)"
   ]
  },
  {
   "cell_type": "code",
   "execution_count": 71,
   "metadata": {},
   "outputs": [
    {
     "name": "stdout",
     "output_type": "stream",
     "text": [
      "Model: \"model\"\n",
      "_________________________________________________________________\n",
      " Layer (type)                Output Shape              Param #   \n",
      "=================================================================\n",
      " input_1 (InputLayer)        [(None, 34)]              0         \n",
      "                                                                 \n",
      " dense_28 (Dense)            (None, 10)                350       \n",
      "                                                                 \n",
      " dense_29 (Dense)            (None, 8)                 88        \n",
      "                                                                 \n",
      " dense_30 (Dense)            (None, 1)                 9         \n",
      "                                                                 \n",
      "=================================================================\n",
      "Total params: 447 (1.75 KB)\n",
      "Trainable params: 447 (1.75 KB)\n",
      "Non-trainable params: 0 (0.00 Byte)\n",
      "_________________________________________________________________\n",
      "None\n"
     ]
    }
   ],
   "source": [
    "print(model_3.summary())\n"
   ]
  },
  {
   "cell_type": "code",
   "execution_count": 72,
   "metadata": {},
   "outputs": [],
   "source": [
    "# compile the model\n",
    "\n",
    "model_3.compile(optimizer=\"adam\",\n",
    "                 loss='binary_crossentropy',\n",
    "                 metrics=['accuracy'])\n"
   ]
  },
  {
   "cell_type": "code",
   "execution_count": 73,
   "metadata": {},
   "outputs": [
    {
     "name": "stdout",
     "output_type": "stream",
     "text": [
      "Epoch 1/150\n",
      "8/8 [==============================] - 1s 2ms/step - loss: 0.6786 - accuracy: 0.5872\n",
      "Epoch 2/150\n",
      "8/8 [==============================] - 0s 2ms/step - loss: 0.6435 - accuracy: 0.6340\n",
      "Epoch 3/150\n",
      "8/8 [==============================] - 0s 2ms/step - loss: 0.6176 - accuracy: 0.6638\n",
      "Epoch 4/150\n",
      "8/8 [==============================] - 0s 2ms/step - loss: 0.5956 - accuracy: 0.7532\n",
      "Epoch 5/150\n",
      "8/8 [==============================] - 0s 2ms/step - loss: 0.5781 - accuracy: 0.7745\n",
      "Epoch 6/150\n",
      "8/8 [==============================] - 0s 1ms/step - loss: 0.5623 - accuracy: 0.7660\n",
      "Epoch 7/150\n",
      "8/8 [==============================] - 0s 2ms/step - loss: 0.5483 - accuracy: 0.7830\n",
      "Epoch 8/150\n",
      "8/8 [==============================] - 0s 2ms/step - loss: 0.5366 - accuracy: 0.8043\n",
      "Epoch 9/150\n",
      "8/8 [==============================] - 0s 2ms/step - loss: 0.5242 - accuracy: 0.8085\n",
      "Epoch 10/150\n",
      "8/8 [==============================] - 0s 2ms/step - loss: 0.5137 - accuracy: 0.8043\n",
      "Epoch 11/150\n",
      "8/8 [==============================] - 0s 2ms/step - loss: 0.5037 - accuracy: 0.8085\n",
      "Epoch 12/150\n",
      "8/8 [==============================] - 0s 2ms/step - loss: 0.4943 - accuracy: 0.8170\n",
      "Epoch 13/150\n",
      "8/8 [==============================] - 0s 2ms/step - loss: 0.4847 - accuracy: 0.8170\n",
      "Epoch 14/150\n",
      "8/8 [==============================] - 0s 2ms/step - loss: 0.4763 - accuracy: 0.8255\n",
      "Epoch 15/150\n",
      "8/8 [==============================] - 0s 2ms/step - loss: 0.4673 - accuracy: 0.8255\n",
      "Epoch 16/150\n",
      "8/8 [==============================] - 0s 2ms/step - loss: 0.4576 - accuracy: 0.8298\n",
      "Epoch 17/150\n",
      "8/8 [==============================] - 0s 2ms/step - loss: 0.4490 - accuracy: 0.8298\n",
      "Epoch 18/150\n",
      "8/8 [==============================] - 0s 1ms/step - loss: 0.4399 - accuracy: 0.8383\n",
      "Epoch 19/150\n",
      "8/8 [==============================] - 0s 2ms/step - loss: 0.4310 - accuracy: 0.8426\n",
      "Epoch 20/150\n",
      "8/8 [==============================] - 0s 1ms/step - loss: 0.4225 - accuracy: 0.8553\n",
      "Epoch 21/150\n",
      "8/8 [==============================] - 0s 2ms/step - loss: 0.4135 - accuracy: 0.8553\n",
      "Epoch 22/150\n",
      "8/8 [==============================] - 0s 1ms/step - loss: 0.4048 - accuracy: 0.8553\n",
      "Epoch 23/150\n",
      "8/8 [==============================] - 0s 1ms/step - loss: 0.3957 - accuracy: 0.8511\n",
      "Epoch 24/150\n",
      "8/8 [==============================] - 0s 2ms/step - loss: 0.3858 - accuracy: 0.8553\n",
      "Epoch 25/150\n",
      "8/8 [==============================] - 0s 2ms/step - loss: 0.3751 - accuracy: 0.8681\n",
      "Epoch 26/150\n",
      "8/8 [==============================] - 0s 2ms/step - loss: 0.3655 - accuracy: 0.8766\n",
      "Epoch 27/150\n",
      "8/8 [==============================] - 0s 2ms/step - loss: 0.3550 - accuracy: 0.8723\n",
      "Epoch 28/150\n",
      "8/8 [==============================] - 0s 2ms/step - loss: 0.3448 - accuracy: 0.8723\n",
      "Epoch 29/150\n",
      "8/8 [==============================] - 0s 2ms/step - loss: 0.3344 - accuracy: 0.8766\n",
      "Epoch 30/150\n",
      "8/8 [==============================] - 0s 2ms/step - loss: 0.3252 - accuracy: 0.8809\n",
      "Epoch 31/150\n",
      "8/8 [==============================] - 0s 2ms/step - loss: 0.3167 - accuracy: 0.8851\n",
      "Epoch 32/150\n",
      "8/8 [==============================] - 0s 2ms/step - loss: 0.3071 - accuracy: 0.8979\n",
      "Epoch 33/150\n",
      "8/8 [==============================] - 0s 2ms/step - loss: 0.2984 - accuracy: 0.8979\n",
      "Epoch 34/150\n",
      "8/8 [==============================] - 0s 2ms/step - loss: 0.2902 - accuracy: 0.9064\n",
      "Epoch 35/150\n",
      "8/8 [==============================] - 0s 2ms/step - loss: 0.2816 - accuracy: 0.9064\n",
      "Epoch 36/150\n",
      "8/8 [==============================] - 0s 2ms/step - loss: 0.2730 - accuracy: 0.9064\n",
      "Epoch 37/150\n",
      "8/8 [==============================] - 0s 2ms/step - loss: 0.2654 - accuracy: 0.9149\n",
      "Epoch 38/150\n",
      "8/8 [==============================] - 0s 2ms/step - loss: 0.2576 - accuracy: 0.9191\n",
      "Epoch 39/150\n",
      "8/8 [==============================] - 0s 2ms/step - loss: 0.2509 - accuracy: 0.9234\n",
      "Epoch 40/150\n",
      "8/8 [==============================] - 0s 2ms/step - loss: 0.2437 - accuracy: 0.9277\n",
      "Epoch 41/150\n",
      "8/8 [==============================] - 0s 2ms/step - loss: 0.2368 - accuracy: 0.9277\n",
      "Epoch 42/150\n",
      "8/8 [==============================] - 0s 2ms/step - loss: 0.2309 - accuracy: 0.9319\n",
      "Epoch 43/150\n",
      "8/8 [==============================] - 0s 2ms/step - loss: 0.2239 - accuracy: 0.9362\n",
      "Epoch 44/150\n",
      "8/8 [==============================] - 0s 2ms/step - loss: 0.2173 - accuracy: 0.9362\n",
      "Epoch 45/150\n",
      "8/8 [==============================] - 0s 2ms/step - loss: 0.2115 - accuracy: 0.9362\n",
      "Epoch 46/150\n",
      "8/8 [==============================] - 0s 2ms/step - loss: 0.2061 - accuracy: 0.9447\n",
      "Epoch 47/150\n",
      "8/8 [==============================] - 0s 2ms/step - loss: 0.2001 - accuracy: 0.9489\n",
      "Epoch 48/150\n",
      "8/8 [==============================] - 0s 2ms/step - loss: 0.1941 - accuracy: 0.9489\n",
      "Epoch 49/150\n",
      "8/8 [==============================] - 0s 2ms/step - loss: 0.1894 - accuracy: 0.9404\n",
      "Epoch 50/150\n",
      "8/8 [==============================] - 0s 2ms/step - loss: 0.1842 - accuracy: 0.9404\n",
      "Epoch 51/150\n",
      "8/8 [==============================] - 0s 2ms/step - loss: 0.1794 - accuracy: 0.9447\n",
      "Epoch 52/150\n",
      "8/8 [==============================] - 0s 2ms/step - loss: 0.1748 - accuracy: 0.9447\n",
      "Epoch 53/150\n",
      "8/8 [==============================] - 0s 2ms/step - loss: 0.1700 - accuracy: 0.9532\n",
      "Epoch 54/150\n",
      "8/8 [==============================] - 0s 2ms/step - loss: 0.1659 - accuracy: 0.9574\n",
      "Epoch 55/150\n",
      "8/8 [==============================] - 0s 2ms/step - loss: 0.1620 - accuracy: 0.9574\n",
      "Epoch 56/150\n",
      "8/8 [==============================] - 0s 1ms/step - loss: 0.1578 - accuracy: 0.9617\n",
      "Epoch 57/150\n",
      "8/8 [==============================] - 0s 1ms/step - loss: 0.1543 - accuracy: 0.9617\n",
      "Epoch 58/150\n",
      "8/8 [==============================] - 0s 2ms/step - loss: 0.1507 - accuracy: 0.9617\n",
      "Epoch 59/150\n",
      "8/8 [==============================] - 0s 2ms/step - loss: 0.1475 - accuracy: 0.9617\n",
      "Epoch 60/150\n",
      "8/8 [==============================] - 0s 2ms/step - loss: 0.1443 - accuracy: 0.9617\n",
      "Epoch 61/150\n",
      "8/8 [==============================] - 0s 2ms/step - loss: 0.1416 - accuracy: 0.9574\n",
      "Epoch 62/150\n",
      "8/8 [==============================] - 0s 2ms/step - loss: 0.1386 - accuracy: 0.9574\n",
      "Epoch 63/150\n",
      "8/8 [==============================] - 0s 1ms/step - loss: 0.1360 - accuracy: 0.9574\n",
      "Epoch 64/150\n",
      "8/8 [==============================] - 0s 2ms/step - loss: 0.1330 - accuracy: 0.9617\n",
      "Epoch 65/150\n",
      "8/8 [==============================] - 0s 2ms/step - loss: 0.1307 - accuracy: 0.9617\n",
      "Epoch 66/150\n",
      "8/8 [==============================] - 0s 2ms/step - loss: 0.1285 - accuracy: 0.9617\n",
      "Epoch 67/150\n",
      "8/8 [==============================] - 0s 2ms/step - loss: 0.1261 - accuracy: 0.9617\n",
      "Epoch 68/150\n",
      "8/8 [==============================] - 0s 1ms/step - loss: 0.1238 - accuracy: 0.9660\n",
      "Epoch 69/150\n",
      "8/8 [==============================] - 0s 2ms/step - loss: 0.1217 - accuracy: 0.9660\n",
      "Epoch 70/150\n",
      "8/8 [==============================] - 0s 2ms/step - loss: 0.1197 - accuracy: 0.9660\n",
      "Epoch 71/150\n",
      "8/8 [==============================] - 0s 2ms/step - loss: 0.1180 - accuracy: 0.9660\n",
      "Epoch 72/150\n",
      "8/8 [==============================] - 0s 2ms/step - loss: 0.1160 - accuracy: 0.9660\n",
      "Epoch 73/150\n",
      "8/8 [==============================] - 0s 2ms/step - loss: 0.1144 - accuracy: 0.9702\n",
      "Epoch 74/150\n",
      "8/8 [==============================] - 0s 1ms/step - loss: 0.1126 - accuracy: 0.9702\n",
      "Epoch 75/150\n",
      "8/8 [==============================] - 0s 2ms/step - loss: 0.1112 - accuracy: 0.9702\n",
      "Epoch 76/150\n",
      "8/8 [==============================] - 0s 1ms/step - loss: 0.1102 - accuracy: 0.9702\n",
      "Epoch 77/150\n",
      "8/8 [==============================] - 0s 2ms/step - loss: 0.1075 - accuracy: 0.9702\n",
      "Epoch 78/150\n",
      "8/8 [==============================] - 0s 2ms/step - loss: 0.1063 - accuracy: 0.9702\n",
      "Epoch 79/150\n",
      "8/8 [==============================] - 0s 2ms/step - loss: 0.1048 - accuracy: 0.9702\n",
      "Epoch 80/150\n",
      "8/8 [==============================] - 0s 1ms/step - loss: 0.1034 - accuracy: 0.9745\n",
      "Epoch 81/150\n",
      "8/8 [==============================] - 0s 2ms/step - loss: 0.1021 - accuracy: 0.9745\n",
      "Epoch 82/150\n",
      "8/8 [==============================] - 0s 1ms/step - loss: 0.1005 - accuracy: 0.9745\n",
      "Epoch 83/150\n",
      "8/8 [==============================] - 0s 2ms/step - loss: 0.0991 - accuracy: 0.9745\n",
      "Epoch 84/150\n"
     ]
    },
    {
     "name": "stdout",
     "output_type": "stream",
     "text": [
      "8/8 [==============================] - 0s 1ms/step - loss: 0.0979 - accuracy: 0.9787\n",
      "Epoch 85/150\n",
      "8/8 [==============================] - 0s 2ms/step - loss: 0.0969 - accuracy: 0.9787\n",
      "Epoch 86/150\n",
      "8/8 [==============================] - 0s 1ms/step - loss: 0.0956 - accuracy: 0.9787\n",
      "Epoch 87/150\n",
      "8/8 [==============================] - 0s 2ms/step - loss: 0.0942 - accuracy: 0.9787\n",
      "Epoch 88/150\n",
      "8/8 [==============================] - 0s 2ms/step - loss: 0.0931 - accuracy: 0.9787\n",
      "Epoch 89/150\n",
      "8/8 [==============================] - 0s 1ms/step - loss: 0.0920 - accuracy: 0.9787\n",
      "Epoch 90/150\n",
      "8/8 [==============================] - 0s 2ms/step - loss: 0.0909 - accuracy: 0.9787\n",
      "Epoch 91/150\n",
      "8/8 [==============================] - 0s 2ms/step - loss: 0.0900 - accuracy: 0.9745\n",
      "Epoch 92/150\n",
      "8/8 [==============================] - 0s 2ms/step - loss: 0.0892 - accuracy: 0.9830\n",
      "Epoch 93/150\n",
      "8/8 [==============================] - 0s 1ms/step - loss: 0.0875 - accuracy: 0.9830\n",
      "Epoch 94/150\n",
      "8/8 [==============================] - 0s 2ms/step - loss: 0.0864 - accuracy: 0.9830\n",
      "Epoch 95/150\n",
      "8/8 [==============================] - 0s 1ms/step - loss: 0.0859 - accuracy: 0.9830\n",
      "Epoch 96/150\n",
      "8/8 [==============================] - 0s 1ms/step - loss: 0.0846 - accuracy: 0.9830\n",
      "Epoch 97/150\n",
      "8/8 [==============================] - 0s 2ms/step - loss: 0.0839 - accuracy: 0.9830\n",
      "Epoch 98/150\n",
      "8/8 [==============================] - 0s 2ms/step - loss: 0.0828 - accuracy: 0.9830\n",
      "Epoch 99/150\n",
      "8/8 [==============================] - 0s 2ms/step - loss: 0.0822 - accuracy: 0.9830\n",
      "Epoch 100/150\n",
      "8/8 [==============================] - 0s 2ms/step - loss: 0.0805 - accuracy: 0.9830\n",
      "Epoch 101/150\n",
      "8/8 [==============================] - 0s 2ms/step - loss: 0.0803 - accuracy: 0.9830\n",
      "Epoch 102/150\n",
      "8/8 [==============================] - 0s 2ms/step - loss: 0.0794 - accuracy: 0.9830\n",
      "Epoch 103/150\n",
      "8/8 [==============================] - 0s 2ms/step - loss: 0.0783 - accuracy: 0.9830\n",
      "Epoch 104/150\n",
      "8/8 [==============================] - 0s 2ms/step - loss: 0.0775 - accuracy: 0.9830\n",
      "Epoch 105/150\n",
      "8/8 [==============================] - 0s 1ms/step - loss: 0.0772 - accuracy: 0.9830\n",
      "Epoch 106/150\n",
      "8/8 [==============================] - 0s 2ms/step - loss: 0.0770 - accuracy: 0.9830\n",
      "Epoch 107/150\n",
      "8/8 [==============================] - 0s 1ms/step - loss: 0.0751 - accuracy: 0.9830\n",
      "Epoch 108/150\n",
      "8/8 [==============================] - 0s 1ms/step - loss: 0.0741 - accuracy: 0.9830\n",
      "Epoch 109/150\n",
      "8/8 [==============================] - 0s 2ms/step - loss: 0.0734 - accuracy: 0.9830\n",
      "Epoch 110/150\n",
      "8/8 [==============================] - 0s 2ms/step - loss: 0.0729 - accuracy: 0.9830\n",
      "Epoch 111/150\n",
      "8/8 [==============================] - 0s 1ms/step - loss: 0.0717 - accuracy: 0.9830\n",
      "Epoch 112/150\n",
      "8/8 [==============================] - 0s 1ms/step - loss: 0.0707 - accuracy: 0.9830\n",
      "Epoch 113/150\n",
      "8/8 [==============================] - 0s 2ms/step - loss: 0.0711 - accuracy: 0.9830\n",
      "Epoch 114/150\n",
      "8/8 [==============================] - 0s 2ms/step - loss: 0.0703 - accuracy: 0.9830\n",
      "Epoch 115/150\n",
      "8/8 [==============================] - 0s 2ms/step - loss: 0.0692 - accuracy: 0.9830\n",
      "Epoch 116/150\n",
      "8/8 [==============================] - 0s 1ms/step - loss: 0.0686 - accuracy: 0.9830\n",
      "Epoch 117/150\n",
      "8/8 [==============================] - 0s 2ms/step - loss: 0.0676 - accuracy: 0.9830\n",
      "Epoch 118/150\n",
      "8/8 [==============================] - 0s 2ms/step - loss: 0.0670 - accuracy: 0.9830\n",
      "Epoch 119/150\n",
      "8/8 [==============================] - 0s 2ms/step - loss: 0.0664 - accuracy: 0.9830\n",
      "Epoch 120/150\n",
      "8/8 [==============================] - 0s 2ms/step - loss: 0.0657 - accuracy: 0.9830\n",
      "Epoch 121/150\n",
      "8/8 [==============================] - 0s 2ms/step - loss: 0.0649 - accuracy: 0.9830\n",
      "Epoch 122/150\n",
      "8/8 [==============================] - 0s 1ms/step - loss: 0.0643 - accuracy: 0.9830\n",
      "Epoch 123/150\n",
      "8/8 [==============================] - 0s 2ms/step - loss: 0.0637 - accuracy: 0.9830\n",
      "Epoch 124/150\n",
      "8/8 [==============================] - 0s 2ms/step - loss: 0.0632 - accuracy: 0.9830\n",
      "Epoch 125/150\n",
      "8/8 [==============================] - 0s 1ms/step - loss: 0.0623 - accuracy: 0.9830\n",
      "Epoch 126/150\n",
      "8/8 [==============================] - 0s 2ms/step - loss: 0.0626 - accuracy: 0.9830\n",
      "Epoch 127/150\n",
      "8/8 [==============================] - 0s 2ms/step - loss: 0.0617 - accuracy: 0.9830\n",
      "Epoch 128/150\n",
      "8/8 [==============================] - 0s 2ms/step - loss: 0.0611 - accuracy: 0.9830\n",
      "Epoch 129/150\n",
      "8/8 [==============================] - 0s 2ms/step - loss: 0.0607 - accuracy: 0.9830\n",
      "Epoch 130/150\n",
      "8/8 [==============================] - 0s 1ms/step - loss: 0.0602 - accuracy: 0.9830\n",
      "Epoch 131/150\n",
      "8/8 [==============================] - 0s 2ms/step - loss: 0.0595 - accuracy: 0.9830\n",
      "Epoch 132/150\n",
      "8/8 [==============================] - 0s 2ms/step - loss: 0.0591 - accuracy: 0.9830\n",
      "Epoch 133/150\n",
      "8/8 [==============================] - 0s 2ms/step - loss: 0.0585 - accuracy: 0.9830\n",
      "Epoch 134/150\n",
      "8/8 [==============================] - 0s 2ms/step - loss: 0.0579 - accuracy: 0.9830\n",
      "Epoch 135/150\n",
      "8/8 [==============================] - 0s 2ms/step - loss: 0.0575 - accuracy: 0.9830\n",
      "Epoch 136/150\n",
      "8/8 [==============================] - 0s 2ms/step - loss: 0.0565 - accuracy: 0.9872\n",
      "Epoch 137/150\n",
      "8/8 [==============================] - 0s 2ms/step - loss: 0.0572 - accuracy: 0.9872\n",
      "Epoch 138/150\n",
      "8/8 [==============================] - 0s 1ms/step - loss: 0.0572 - accuracy: 0.9872\n",
      "Epoch 139/150\n",
      "8/8 [==============================] - 0s 2ms/step - loss: 0.0554 - accuracy: 0.9830\n",
      "Epoch 140/150\n",
      "8/8 [==============================] - 0s 2ms/step - loss: 0.0551 - accuracy: 0.9830\n",
      "Epoch 141/150\n",
      "8/8 [==============================] - 0s 2ms/step - loss: 0.0547 - accuracy: 0.9872\n",
      "Epoch 142/150\n",
      "8/8 [==============================] - 0s 2ms/step - loss: 0.0543 - accuracy: 0.9872\n",
      "Epoch 143/150\n",
      "8/8 [==============================] - 0s 2ms/step - loss: 0.0537 - accuracy: 0.9830\n",
      "Epoch 144/150\n",
      "8/8 [==============================] - 0s 1ms/step - loss: 0.0533 - accuracy: 0.9830\n",
      "Epoch 145/150\n",
      "8/8 [==============================] - 0s 2ms/step - loss: 0.0528 - accuracy: 0.9872\n",
      "Epoch 146/150\n",
      "8/8 [==============================] - 0s 2ms/step - loss: 0.0527 - accuracy: 0.9830\n",
      "Epoch 147/150\n",
      "8/8 [==============================] - 0s 2ms/step - loss: 0.0523 - accuracy: 0.9872\n",
      "Epoch 148/150\n",
      "8/8 [==============================] - 0s 2ms/step - loss: 0.0519 - accuracy: 0.9872\n",
      "Epoch 149/150\n",
      "8/8 [==============================] - 0s 1ms/step - loss: 0.0515 - accuracy: 0.9872\n",
      "Epoch 150/150\n",
      "8/8 [==============================] - 0s 1ms/step - loss: 0.0514 - accuracy: 0.9872\n"
     ]
    }
   ],
   "source": [
    "# fit the model\n",
    "\n",
    "history_4 = model_3.fit(X_train, y_train, epochs=150, batch_size=32, verbose=1)"
   ]
  },
  {
   "cell_type": "code",
   "execution_count": 75,
   "metadata": {},
   "outputs": [
    {
     "name": "stdout",
     "output_type": "stream",
     "text": [
      "Test Accuracy: 0.940\n"
     ]
    }
   ],
   "source": [
    "# evaluate the model\n",
    "\n",
    "loss, acc = model_3.evaluate(X_test, y_test, verbose=0)\n",
    "print('Test Accuracy: %.3f' % acc)"
   ]
  },
  {
   "cell_type": "code",
   "execution_count": 76,
   "metadata": {},
   "outputs": [
    {
     "data": {
      "image/png": "[encoded data removed]",
      "text/plain": [
       "<Figure size 1500x700 with 1 Axes>"
      ]
     },
     "metadata": {},
     "output_type": "display_data"
    }
   ],
   "source": [
    "history_dict = history_4.history\n",
    "Accuracy = history_dict['accuracy']\n",
    "plt.figure(num=1, figsize=(15,7))\n",
    "plt.plot(Accuracy, 'bo', label='Training accuracy')\n",
    "plt.xlabel('Epochs')\n",
    "plt.ylabel('Accuracy')\n",
    "plt.legend()\n",
    "plt.show()"
   ]
  },
  {
   "cell_type": "code",
   "execution_count": 77,
   "metadata": {},
   "outputs": [
    {
     "name": "stdout",
     "output_type": "stream",
     "text": [
      "1/1 [==============================] - 0s 63ms/step\n",
      "Predicted: 0.995\n"
     ]
    }
   ],
   "source": [
    "# make a prediction - Copy a row of your choice!\n",
    "\n",
    "row = [1,0,0.99539,-0.05889,0.85243,0.02306,\n",
    " 0.83398,-0.37708,1,0.03760,0.85243,-0.17755,\n",
    " 0.59755,-0.44945,0.60536,-0.38223,0.84356,\n",
    " -0.38542,0.58212,-0.32192,0.56971,-0.29674,0.36946,\n",
    " -0.47357,0.56811,-0.51171,0.41078,-0.46168,0.21266,\n",
    " -0.34090,0.42267,-0.54487,0.18641,-0.45300]\n",
    "\n",
    "yhat = model_3.predict([row])\n",
    "print('Predicted: %.3f' % yhat)"
   ]
  },
  {
   "cell_type": "code",
   "execution_count": null,
   "metadata": {},
   "outputs": [],
   "source": []
  },
  {
   "cell_type": "code",
   "execution_count": null,
   "metadata": {},
   "outputs": [],
   "source": []
  }
 ],
 "metadata": {
  "colab": {
   "provenance": []
  },
  "kernelspec": {
   "display_name": "Python 3 (ipykernel)",
   "language": "python",
   "name": "python3"
  },
  "language_info": {
   "codemirror_mode": {
    "name": "ipython",
    "version": 3
   },
   "file_extension": ".py",
   "mimetype": "text/x-python",
   "name": "python",
   "nbconvert_exporter": "python",
   "pygments_lexer": "ipython3",
   "version": "3.11.5"
  }
 },
 "nbformat": 4,
 "nbformat_minor": 1
}
